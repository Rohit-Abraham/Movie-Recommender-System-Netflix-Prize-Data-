{
  "nbformat": 4,
  "nbformat_minor": 0,
  "metadata": {
    "colab": {
      "name": "Netflix_kNN.ipynb",
      "provenance": [],
      "collapsed_sections": [],
      "machine_shape": "hm"
    },
    "kernelspec": {
      "name": "python3",
      "display_name": "Python 3"
    },
    "accelerator": "GPU"
  },
  "cells": [
    {
      "cell_type": "markdown",
      "metadata": {
        "id": "wLqWNcDGhbRM",
        "colab_type": "text"
      },
      "source": [
        "## Importing dependencies"
      ]
    },
    {
      "cell_type": "code",
      "metadata": {
        "id": "d-NDTSE6Cnx-",
        "colab_type": "code",
        "outputId": "6b2b08a1-53e6-44c9-bc95-fc1835751d6e",
        "colab": {
          "base_uri": "https://localhost:8080/",
          "height": 51
        }
      },
      "source": [
        "#importing the required libraries\n",
        "! pip install scipy\n",
        "import numpy as np\n",
        "import pandas as pd\n",
        "import pickle\n",
        "#import matrix_factorization_utilities\n",
        "import scipy.sparse as sp\n",
        "from scipy.sparse.linalg import svds"
      ],
      "execution_count": 0,
      "outputs": [
        {
          "output_type": "stream",
          "text": [
            "Requirement already satisfied: scipy in /usr/local/lib/python3.6/dist-packages (1.3.2)\n",
            "Requirement already satisfied: numpy>=1.13.3 in /usr/local/lib/python3.6/dist-packages (from scipy) (1.17.4)\n"
          ],
          "name": "stdout"
        }
      ]
    },
    {
      "cell_type": "code",
      "metadata": {
        "id": "QvfjhyqBCt4v",
        "colab_type": "code",
        "outputId": "60bebb19-20f5-4c58-d969-df8632b6c31d",
        "colab": {
          "base_uri": "https://localhost:8080/",
          "height": 34
        }
      },
      "source": [
        "from google.colab import drive\n",
        "drive.mount('/content/gdrive')"
      ],
      "execution_count": 0,
      "outputs": [
        {
          "output_type": "stream",
          "text": [
            "Drive already mounted at /content/gdrive; to attempt to forcibly remount, call drive.mount(\"/content/gdrive\", force_remount=True).\n"
          ],
          "name": "stdout"
        }
      ]
    },
    {
      "cell_type": "code",
      "metadata": {
        "id": "gXZ7WJVcC2sn",
        "colab_type": "code",
        "colab": {}
      },
      "source": [
        "df_ratings = pd.read_csv(\"/content/gdrive/../path.csv\")"
      ],
      "execution_count": 0,
      "outputs": []
    },
    {
      "cell_type": "code",
      "metadata": {
        "id": "Obq0-f69D8oy",
        "colab_type": "code",
        "outputId": "7c48dc04-92b8-4bf7-e68f-62af0c6b3e68",
        "colab": {
          "base_uri": "https://localhost:8080/",
          "height": 206
        }
      },
      "source": [
        "df_ratings = df_ratings.drop(\"date\", axis=1)\n",
        "df_ratings.columns =[\"MovieID\",\"CustID\", \"Ratings\"] \n",
        "df_ratings.head(5)"
      ],
      "execution_count": 0,
      "outputs": [
        {
          "output_type": "execute_result",
          "data": {
            "text/html": [
              "<div>\n",
              "<style scoped>\n",
              "    .dataframe tbody tr th:only-of-type {\n",
              "        vertical-align: middle;\n",
              "    }\n",
              "\n",
              "    .dataframe tbody tr th {\n",
              "        vertical-align: top;\n",
              "    }\n",
              "\n",
              "    .dataframe thead th {\n",
              "        text-align: right;\n",
              "    }\n",
              "</style>\n",
              "<table border=\"1\" class=\"dataframe\">\n",
              "  <thead>\n",
              "    <tr style=\"text-align: right;\">\n",
              "      <th></th>\n",
              "      <th>MovieID</th>\n",
              "      <th>CustID</th>\n",
              "      <th>Ratings</th>\n",
              "    </tr>\n",
              "  </thead>\n",
              "  <tbody>\n",
              "    <tr>\n",
              "      <th>0</th>\n",
              "      <td>12145</td>\n",
              "      <td>1288391</td>\n",
              "      <td>4.0</td>\n",
              "    </tr>\n",
              "    <tr>\n",
              "      <th>1</th>\n",
              "      <td>9438</td>\n",
              "      <td>1588457</td>\n",
              "      <td>3.0</td>\n",
              "    </tr>\n",
              "    <tr>\n",
              "      <th>2</th>\n",
              "      <td>14454</td>\n",
              "      <td>1640400</td>\n",
              "      <td>5.0</td>\n",
              "    </tr>\n",
              "    <tr>\n",
              "      <th>3</th>\n",
              "      <td>4888</td>\n",
              "      <td>2565022</td>\n",
              "      <td>1.0</td>\n",
              "    </tr>\n",
              "    <tr>\n",
              "      <th>4</th>\n",
              "      <td>9410</td>\n",
              "      <td>1979758</td>\n",
              "      <td>3.0</td>\n",
              "    </tr>\n",
              "  </tbody>\n",
              "</table>\n",
              "</div>"
            ],
            "text/plain": [
              "   MovieID   CustID  Ratings\n",
              "0    12145  1288391      4.0\n",
              "1     9438  1588457      3.0\n",
              "2    14454  1640400      5.0\n",
              "3     4888  2565022      1.0\n",
              "4     9410  1979758      3.0"
            ]
          },
          "metadata": {
            "tags": []
          },
          "execution_count": 4
        }
      ]
    },
    {
      "cell_type": "code",
      "metadata": {
        "id": "pA96ohbJ7piG",
        "colab_type": "code",
        "outputId": "5c4c4676-6512-4f5d-c62e-ece7f0a8935d",
        "colab": {
          "base_uri": "https://localhost:8080/",
          "height": 237
        }
      },
      "source": [
        "# Checking if the user has rated the same movie twice, in that case we just take max of them\n",
        "ratings = df_ratings.groupby(['CustID','MovieID']).aggregate(np.max)\n",
        "len(ratings)\n",
        "ratings.head()"
      ],
      "execution_count": 0,
      "outputs": [
        {
          "output_type": "execute_result",
          "data": {
            "text/html": [
              "<div>\n",
              "<style scoped>\n",
              "    .dataframe tbody tr th:only-of-type {\n",
              "        vertical-align: middle;\n",
              "    }\n",
              "\n",
              "    .dataframe tbody tr th {\n",
              "        vertical-align: top;\n",
              "    }\n",
              "\n",
              "    .dataframe thead th {\n",
              "        text-align: right;\n",
              "    }\n",
              "</style>\n",
              "<table border=\"1\" class=\"dataframe\">\n",
              "  <thead>\n",
              "    <tr style=\"text-align: right;\">\n",
              "      <th></th>\n",
              "      <th></th>\n",
              "      <th>Ratings</th>\n",
              "    </tr>\n",
              "    <tr>\n",
              "      <th>CustID</th>\n",
              "      <th>MovieID</th>\n",
              "      <th></th>\n",
              "    </tr>\n",
              "  </thead>\n",
              "  <tbody>\n",
              "    <tr>\n",
              "      <th>6</th>\n",
              "      <th>7635</th>\n",
              "      <td>2.0</td>\n",
              "    </tr>\n",
              "    <tr>\n",
              "      <th rowspan=\"2\" valign=\"top\">8</th>\n",
              "      <th>4590</th>\n",
              "      <td>4.0</td>\n",
              "    </tr>\n",
              "    <tr>\n",
              "      <th>6497</th>\n",
              "      <td>4.0</td>\n",
              "    </tr>\n",
              "    <tr>\n",
              "      <th rowspan=\"2\" valign=\"top\">79</th>\n",
              "      <th>7381</th>\n",
              "      <td>3.0</td>\n",
              "    </tr>\n",
              "    <tr>\n",
              "      <th>17346</th>\n",
              "      <td>5.0</td>\n",
              "    </tr>\n",
              "  </tbody>\n",
              "</table>\n",
              "</div>"
            ],
            "text/plain": [
              "                Ratings\n",
              "CustID MovieID         \n",
              "6      7635         2.0\n",
              "8      4590         4.0\n",
              "       6497         4.0\n",
              "79     7381         3.0\n",
              "       17346        5.0"
            ]
          },
          "metadata": {
            "tags": []
          },
          "execution_count": 5
        }
      ]
    },
    {
      "cell_type": "code",
      "metadata": {
        "id": "Lv2Abbtz9wR8",
        "colab_type": "code",
        "colab": {}
      },
      "source": [
        "#Getting the percentage count of each rating value \n",
        "count_ratings = df_ratings.groupby('Ratings').count()\n",
        "count_ratings['perc_total']=round(count_ratings['CustID']*100/count_ratings['CustID'].sum(),1)"
      ],
      "execution_count": 0,
      "outputs": []
    },
    {
      "cell_type": "code",
      "metadata": {
        "id": "6qi2hDMv-LbE",
        "colab_type": "code",
        "outputId": "7f2bb6b8-1f9d-40b3-de55-0cca983b9638",
        "colab": {
          "base_uri": "https://localhost:8080/",
          "height": 237
        }
      },
      "source": [
        "count_ratings"
      ],
      "execution_count": 0,
      "outputs": [
        {
          "output_type": "execute_result",
          "data": {
            "text/html": [
              "<div>\n",
              "<style scoped>\n",
              "    .dataframe tbody tr th:only-of-type {\n",
              "        vertical-align: middle;\n",
              "    }\n",
              "\n",
              "    .dataframe tbody tr th {\n",
              "        vertical-align: top;\n",
              "    }\n",
              "\n",
              "    .dataframe thead th {\n",
              "        text-align: right;\n",
              "    }\n",
              "</style>\n",
              "<table border=\"1\" class=\"dataframe\">\n",
              "  <thead>\n",
              "    <tr style=\"text-align: right;\">\n",
              "      <th></th>\n",
              "      <th>MovieID</th>\n",
              "      <th>CustID</th>\n",
              "      <th>perc_total</th>\n",
              "    </tr>\n",
              "    <tr>\n",
              "      <th>Ratings</th>\n",
              "      <th></th>\n",
              "      <th></th>\n",
              "      <th></th>\n",
              "    </tr>\n",
              "  </thead>\n",
              "  <tbody>\n",
              "    <tr>\n",
              "      <th>1.0</th>\n",
              "      <td>9295</td>\n",
              "      <td>9295</td>\n",
              "      <td>4.6</td>\n",
              "    </tr>\n",
              "    <tr>\n",
              "      <th>2.0</th>\n",
              "      <td>20175</td>\n",
              "      <td>20175</td>\n",
              "      <td>10.1</td>\n",
              "    </tr>\n",
              "    <tr>\n",
              "      <th>3.0</th>\n",
              "      <td>57319</td>\n",
              "      <td>57319</td>\n",
              "      <td>28.7</td>\n",
              "    </tr>\n",
              "    <tr>\n",
              "      <th>4.0</th>\n",
              "      <td>67232</td>\n",
              "      <td>67232</td>\n",
              "      <td>33.6</td>\n",
              "    </tr>\n",
              "    <tr>\n",
              "      <th>5.0</th>\n",
              "      <td>45979</td>\n",
              "      <td>45979</td>\n",
              "      <td>23.0</td>\n",
              "    </tr>\n",
              "  </tbody>\n",
              "</table>\n",
              "</div>"
            ],
            "text/plain": [
              "         MovieID  CustID  perc_total\n",
              "Ratings                             \n",
              "1.0         9295    9295         4.6\n",
              "2.0        20175   20175        10.1\n",
              "3.0        57319   57319        28.7\n",
              "4.0        67232   67232        33.6\n",
              "5.0        45979   45979        23.0"
            ]
          },
          "metadata": {
            "tags": []
          },
          "execution_count": 7
        }
      ]
    },
    {
      "cell_type": "code",
      "metadata": {
        "id": "yREJtd0g-Sci",
        "colab_type": "code",
        "outputId": "633c30f4-bca9-4899-b637-ee8b13079cb3",
        "colab": {
          "base_uri": "https://localhost:8080/",
          "height": 304
        }
      },
      "source": [
        "#Visualising the percentage total for each rating\n",
        "count_ratings['perc_total'].plot.bar()"
      ],
      "execution_count": 0,
      "outputs": [
        {
          "output_type": "execute_result",
          "data": {
            "text/plain": [
              "<matplotlib.axes._subplots.AxesSubplot at 0x7fc8dbb9b780>"
            ]
          },
          "metadata": {
            "tags": []
          },
          "execution_count": 8
        },
        {
          "output_type": "display_data",
          "data": {
            "image/png": "[encoded data removed]",
            "text/plain": [
              "<Figure size 432x288 with 1 Axes>"
            ]
          },
          "metadata": {
            "tags": []
          }
        }
      ]
    },
    {
      "cell_type": "code",
      "metadata": {
        "id": "PKsXWq2KD5Lb",
        "colab_type": "code",
        "colab": {}
      },
      "source": [
        "df_movies = pd.read_csv('/content/gdrive/Shared drives/IDS 561/movie_titles.csv', encoding = \"ISO-8859-1\", header = None, names = ['MovieID', 'Year', 'Name'])\n",
        "df_movies = df_movies.drop('Year', axis=1)\n",
        "#df_movies.set_index('MovieID', inplace = True)"
      ],
      "execution_count": 0,
      "outputs": []
    },
    {
      "cell_type": "code",
      "metadata": {
        "id": "uKXxbogBGLFu",
        "colab_type": "code",
        "outputId": "1df6ee5f-e679-4dd6-f877-5acb23e03203",
        "colab": {
          "base_uri": "https://localhost:8080/",
          "height": 206
        }
      },
      "source": [
        "df_movies.head(5)"
      ],
      "execution_count": 0,
      "outputs": [
        {
          "output_type": "execute_result",
          "data": {
            "text/html": [
              "<div>\n",
              "<style scoped>\n",
              "    .dataframe tbody tr th:only-of-type {\n",
              "        vertical-align: middle;\n",
              "    }\n",
              "\n",
              "    .dataframe tbody tr th {\n",
              "        vertical-align: top;\n",
              "    }\n",
              "\n",
              "    .dataframe thead th {\n",
              "        text-align: right;\n",
              "    }\n",
              "</style>\n",
              "<table border=\"1\" class=\"dataframe\">\n",
              "  <thead>\n",
              "    <tr style=\"text-align: right;\">\n",
              "      <th></th>\n",
              "      <th>MovieID</th>\n",
              "      <th>Name</th>\n",
              "    </tr>\n",
              "  </thead>\n",
              "  <tbody>\n",
              "    <tr>\n",
              "      <th>0</th>\n",
              "      <td>1</td>\n",
              "      <td>Dinosaur Planet</td>\n",
              "    </tr>\n",
              "    <tr>\n",
              "      <th>1</th>\n",
              "      <td>2</td>\n",
              "      <td>Isle of Man TT 2004 Review</td>\n",
              "    </tr>\n",
              "    <tr>\n",
              "      <th>2</th>\n",
              "      <td>3</td>\n",
              "      <td>Character</td>\n",
              "    </tr>\n",
              "    <tr>\n",
              "      <th>3</th>\n",
              "      <td>4</td>\n",
              "      <td>Paula Abdul's Get Up &amp; Dance</td>\n",
              "    </tr>\n",
              "    <tr>\n",
              "      <th>4</th>\n",
              "      <td>5</td>\n",
              "      <td>The Rise and Fall of ECW</td>\n",
              "    </tr>\n",
              "  </tbody>\n",
              "</table>\n",
              "</div>"
            ],
            "text/plain": [
              "   MovieID                          Name\n",
              "0        1               Dinosaur Planet\n",
              "1        2    Isle of Man TT 2004 Review\n",
              "2        3                     Character\n",
              "3        4  Paula Abdul's Get Up & Dance\n",
              "4        5      The Rise and Fall of ECW"
            ]
          },
          "metadata": {
            "tags": []
          },
          "execution_count": 10
        }
      ]
    },
    {
      "cell_type": "code",
      "metadata": {
        "id": "OYD0GH9p_Dix",
        "colab_type": "code",
        "outputId": "8b2c940c-ad4b-411a-85ba-7f5eef782e2a",
        "colab": {
          "base_uri": "https://localhost:8080/",
          "height": 34
        }
      },
      "source": [
        "#Calculating the sparsity\n",
        "no_of_users = len(df_ratings['CustID'].unique())\n",
        "no_of_movies = len(df_ratings['MovieID'].unique())\n",
        "\n",
        "sparsity = round(1.0 - len(ratings)/(1.0*(no_of_movies*no_of_users)),3)*100\n",
        "print(str(sparsity) + '%')"
      ],
      "execution_count": 0,
      "outputs": [
        {
          "output_type": "stream",
          "text": [
            "100.0%\n"
          ],
          "name": "stdout"
        }
      ]
    },
    {
      "cell_type": "code",
      "metadata": {
        "id": "ho7tzv6k_taI",
        "colab_type": "code",
        "outputId": "cd66bc48-5b22-4319-fe65-aed9ef918c14",
        "colab": {
          "base_uri": "https://localhost:8080/",
          "height": 51
        }
      },
      "source": [
        "# Counting the number of unique movies in the dataset.\n",
        "print('Unique movies:' + str(len(df_ratings['MovieID'].unique())))\n",
        "print('Unique users:' + str(len(df_ratings['CustID'].unique())))"
      ],
      "execution_count": 0,
      "outputs": [
        {
          "output_type": "stream",
          "text": [
            "Unique movies:11520\n",
            "Unique users:127972\n"
          ],
          "name": "stdout"
        }
      ]
    },
    {
      "cell_type": "code",
      "metadata": {
        "id": "0_RlpfgqAdp3",
        "colab_type": "code",
        "colab": {}
      },
      "source": [
        "# Finding the average rating for movie and the number of ratings for each movie\n",
        "avg_movie_rating = pd.DataFrame(df_ratings.groupby('MovieID')['Ratings'].agg(['mean','count']))\n",
        "avg_movie_rating['MovieID']= avg_movie_rating.index"
      ],
      "execution_count": 0,
      "outputs": []
    },
    {
      "cell_type": "code",
      "metadata": {
        "id": "brKxNUL1An89",
        "colab_type": "code",
        "outputId": "4e449047-eaf2-486d-a660-4cf6fbe3f80e",
        "colab": {
          "base_uri": "https://localhost:8080/",
          "height": 237
        }
      },
      "source": [
        "# inspecting the average movie rating data frame\n",
        "avg_movie_rating.head()"
      ],
      "execution_count": 0,
      "outputs": [
        {
          "output_type": "execute_result",
          "data": {
            "text/html": [
              "<div>\n",
              "<style scoped>\n",
              "    .dataframe tbody tr th:only-of-type {\n",
              "        vertical-align: middle;\n",
              "    }\n",
              "\n",
              "    .dataframe tbody tr th {\n",
              "        vertical-align: top;\n",
              "    }\n",
              "\n",
              "    .dataframe thead th {\n",
              "        text-align: right;\n",
              "    }\n",
              "</style>\n",
              "<table border=\"1\" class=\"dataframe\">\n",
              "  <thead>\n",
              "    <tr style=\"text-align: right;\">\n",
              "      <th></th>\n",
              "      <th>mean</th>\n",
              "      <th>count</th>\n",
              "      <th>MovieID</th>\n",
              "    </tr>\n",
              "    <tr>\n",
              "      <th>MovieID</th>\n",
              "      <th></th>\n",
              "      <th></th>\n",
              "      <th></th>\n",
              "    </tr>\n",
              "  </thead>\n",
              "  <tbody>\n",
              "    <tr>\n",
              "      <th>1</th>\n",
              "      <td>4.50</td>\n",
              "      <td>2</td>\n",
              "      <td>1</td>\n",
              "    </tr>\n",
              "    <tr>\n",
              "      <th>2</th>\n",
              "      <td>3.50</td>\n",
              "      <td>2</td>\n",
              "      <td>2</td>\n",
              "    </tr>\n",
              "    <tr>\n",
              "      <th>3</th>\n",
              "      <td>4.75</td>\n",
              "      <td>4</td>\n",
              "      <td>3</td>\n",
              "    </tr>\n",
              "    <tr>\n",
              "      <th>6</th>\n",
              "      <td>2.50</td>\n",
              "      <td>2</td>\n",
              "      <td>6</td>\n",
              "    </tr>\n",
              "    <tr>\n",
              "      <th>8</th>\n",
              "      <td>3.60</td>\n",
              "      <td>20</td>\n",
              "      <td>8</td>\n",
              "    </tr>\n",
              "  </tbody>\n",
              "</table>\n",
              "</div>"
            ],
            "text/plain": [
              "         mean  count  MovieID\n",
              "MovieID                      \n",
              "1        4.50      2        1\n",
              "2        3.50      2        2\n",
              "3        4.75      4        3\n",
              "6        2.50      2        6\n",
              "8        3.60     20        8"
            ]
          },
          "metadata": {
            "tags": []
          },
          "execution_count": 14
        }
      ]
    },
    {
      "cell_type": "markdown",
      "metadata": {
        "id": "knhRSLVASn6W",
        "colab_type": "text"
      },
      "source": [
        "Merging the two datasets"
      ]
    },
    {
      "cell_type": "code",
      "metadata": {
        "id": "iilN64xgSmoG",
        "colab_type": "code",
        "colab": {}
      },
      "source": [
        "df_merged = pd.merge(df_ratings, df_movies, on='MovieID')"
      ],
      "execution_count": 0,
      "outputs": []
    },
    {
      "cell_type": "code",
      "metadata": {
        "id": "KWN9bhp2S1PC",
        "colab_type": "code",
        "outputId": "558603e5-b261-4f53-dcfd-d7ff0c736505",
        "colab": {
          "base_uri": "https://localhost:8080/",
          "height": 206
        }
      },
      "source": [
        "df_merged.head()"
      ],
      "execution_count": 0,
      "outputs": [
        {
          "output_type": "execute_result",
          "data": {
            "text/html": [
              "<div>\n",
              "<style scoped>\n",
              "    .dataframe tbody tr th:only-of-type {\n",
              "        vertical-align: middle;\n",
              "    }\n",
              "\n",
              "    .dataframe tbody tr th {\n",
              "        vertical-align: top;\n",
              "    }\n",
              "\n",
              "    .dataframe thead th {\n",
              "        text-align: right;\n",
              "    }\n",
              "</style>\n",
              "<table border=\"1\" class=\"dataframe\">\n",
              "  <thead>\n",
              "    <tr style=\"text-align: right;\">\n",
              "      <th></th>\n",
              "      <th>MovieID</th>\n",
              "      <th>CustID</th>\n",
              "      <th>Ratings</th>\n",
              "      <th>Name</th>\n",
              "    </tr>\n",
              "  </thead>\n",
              "  <tbody>\n",
              "    <tr>\n",
              "      <th>0</th>\n",
              "      <td>12145</td>\n",
              "      <td>1288391</td>\n",
              "      <td>4.0</td>\n",
              "      <td>Absence of Malice</td>\n",
              "    </tr>\n",
              "    <tr>\n",
              "      <th>1</th>\n",
              "      <td>12145</td>\n",
              "      <td>1109322</td>\n",
              "      <td>5.0</td>\n",
              "      <td>Absence of Malice</td>\n",
              "    </tr>\n",
              "    <tr>\n",
              "      <th>2</th>\n",
              "      <td>12145</td>\n",
              "      <td>628966</td>\n",
              "      <td>5.0</td>\n",
              "      <td>Absence of Malice</td>\n",
              "    </tr>\n",
              "    <tr>\n",
              "      <th>3</th>\n",
              "      <td>12145</td>\n",
              "      <td>2255059</td>\n",
              "      <td>5.0</td>\n",
              "      <td>Absence of Malice</td>\n",
              "    </tr>\n",
              "    <tr>\n",
              "      <th>4</th>\n",
              "      <td>12145</td>\n",
              "      <td>493920</td>\n",
              "      <td>4.0</td>\n",
              "      <td>Absence of Malice</td>\n",
              "    </tr>\n",
              "  </tbody>\n",
              "</table>\n",
              "</div>"
            ],
            "text/plain": [
              "   MovieID   CustID  Ratings               Name\n",
              "0    12145  1288391      4.0  Absence of Malice\n",
              "1    12145  1109322      5.0  Absence of Malice\n",
              "2    12145   628966      5.0  Absence of Malice\n",
              "3    12145  2255059      5.0  Absence of Malice\n",
              "4    12145   493920      4.0  Absence of Malice"
            ]
          },
          "metadata": {
            "tags": []
          },
          "execution_count": 16
        }
      ]
    },
    {
      "cell_type": "code",
      "metadata": {
        "id": "DWFFvO7CDrN-",
        "colab_type": "code",
        "colab": {}
      },
      "source": [
        "#Gets the other top 10 movies which are watched by the people who saw this particular movie\n",
        "def get_other_movies(movie_name):\n",
        "    #get all users who watched a specific movie\n",
        "    df_movie_users_series = df_merged.loc[df_merged['Name']==movie_name]['CustID']\n",
        "    #convert to a data frame\n",
        "    df_movie_users = pd.DataFrame(df_movie_users_series,columns=['CustID'])\n",
        "    #get a list of all other movies watched by these users\n",
        "    other_movies = pd.merge(df_movie_users,df_merged,on='CustID')\n",
        "    #get a list of the most commonly watched movies by these other user\n",
        "    other_users_watched = pd.DataFrame(other_movies.groupby('Name')['CustID'].count()).sort_values('CustID',ascending=False)\n",
        "    other_users_watched['perc_who_watched'] = round(other_users_watched['CustID']*100/other_users_watched['CustID'][0],1)\n",
        "    return other_users_watched[:10]"
      ],
      "execution_count": 0,
      "outputs": []
    },
    {
      "cell_type": "code",
      "metadata": {
        "id": "oRZ5c3bQEVQn",
        "colab_type": "code",
        "outputId": "0375b582-0b64-4590-fb6f-fd571db52c20",
        "colab": {
          "base_uri": "https://localhost:8080/",
          "height": 237
        }
      },
      "source": [
        "# Getting other top 10 movies which are watched by the people who saw 'Dinosaur Planet'\n",
        "get_other_movies('Dinosaur Planet')"
      ],
      "execution_count": 0,
      "outputs": [
        {
          "output_type": "execute_result",
          "data": {
            "text/html": [
              "<div>\n",
              "<style scoped>\n",
              "    .dataframe tbody tr th:only-of-type {\n",
              "        vertical-align: middle;\n",
              "    }\n",
              "\n",
              "    .dataframe tbody tr th {\n",
              "        vertical-align: top;\n",
              "    }\n",
              "\n",
              "    .dataframe thead th {\n",
              "        text-align: right;\n",
              "    }\n",
              "</style>\n",
              "<table border=\"1\" class=\"dataframe\">\n",
              "  <thead>\n",
              "    <tr style=\"text-align: right;\">\n",
              "      <th></th>\n",
              "      <th>CustID</th>\n",
              "      <th>perc_who_watched</th>\n",
              "    </tr>\n",
              "    <tr>\n",
              "      <th>Name</th>\n",
              "      <th></th>\n",
              "      <th></th>\n",
              "    </tr>\n",
              "  </thead>\n",
              "  <tbody>\n",
              "    <tr>\n",
              "      <th>Dinosaur Planet</th>\n",
              "      <td>2</td>\n",
              "      <td>100.0</td>\n",
              "    </tr>\n",
              "    <tr>\n",
              "      <th>Cruel Intentions</th>\n",
              "      <td>1</td>\n",
              "      <td>50.0</td>\n",
              "    </tr>\n",
              "    <tr>\n",
              "      <th>GoodFellas: Special Edition</th>\n",
              "      <td>1</td>\n",
              "      <td>50.0</td>\n",
              "    </tr>\n",
              "    <tr>\n",
              "      <th>Jaws</th>\n",
              "      <td>1</td>\n",
              "      <td>50.0</td>\n",
              "    </tr>\n",
              "    <tr>\n",
              "      <th>Mad Max Beyond Thunderdome</th>\n",
              "      <td>1</td>\n",
              "      <td>50.0</td>\n",
              "    </tr>\n",
              "  </tbody>\n",
              "</table>\n",
              "</div>"
            ],
            "text/plain": [
              "                             CustID  perc_who_watched\n",
              "Name                                                 \n",
              "Dinosaur Planet                   2             100.0\n",
              "Cruel Intentions                  1              50.0\n",
              "GoodFellas: Special Edition       1              50.0\n",
              "Jaws                              1              50.0\n",
              "Mad Max Beyond Thunderdome        1              50.0"
            ]
          },
          "metadata": {
            "tags": []
          },
          "execution_count": 18
        }
      ]
    },
    {
      "cell_type": "markdown",
      "metadata": {
        "id": "RVh7haOhhtY8",
        "colab_type": "text"
      },
      "source": [
        "## Implementing kNN"
      ]
    },
    {
      "cell_type": "code",
      "metadata": {
        "id": "IkpDBUkpE0_K",
        "colab_type": "code",
        "colab": {}
      },
      "source": [
        "from sklearn.neighbors import NearestNeighbors"
      ],
      "execution_count": 0,
      "outputs": []
    },
    {
      "cell_type": "code",
      "metadata": {
        "id": "EuMa3AEQFDfL",
        "colab_type": "code",
        "outputId": "9fa065e3-414b-4a1f-dc65-4fd35822a504",
        "colab": {
          "base_uri": "https://localhost:8080/",
          "height": 237
        }
      },
      "source": [
        "avg_movie_rating.head()"
      ],
      "execution_count": 0,
      "outputs": [
        {
          "output_type": "execute_result",
          "data": {
            "text/html": [
              "<div>\n",
              "<style scoped>\n",
              "    .dataframe tbody tr th:only-of-type {\n",
              "        vertical-align: middle;\n",
              "    }\n",
              "\n",
              "    .dataframe tbody tr th {\n",
              "        vertical-align: top;\n",
              "    }\n",
              "\n",
              "    .dataframe thead th {\n",
              "        text-align: right;\n",
              "    }\n",
              "</style>\n",
              "<table border=\"1\" class=\"dataframe\">\n",
              "  <thead>\n",
              "    <tr style=\"text-align: right;\">\n",
              "      <th></th>\n",
              "      <th>mean</th>\n",
              "      <th>count</th>\n",
              "      <th>MovieID</th>\n",
              "    </tr>\n",
              "    <tr>\n",
              "      <th>MovieID</th>\n",
              "      <th></th>\n",
              "      <th></th>\n",
              "      <th></th>\n",
              "    </tr>\n",
              "  </thead>\n",
              "  <tbody>\n",
              "    <tr>\n",
              "      <th>1</th>\n",
              "      <td>4.50</td>\n",
              "      <td>2</td>\n",
              "      <td>1</td>\n",
              "    </tr>\n",
              "    <tr>\n",
              "      <th>2</th>\n",
              "      <td>3.50</td>\n",
              "      <td>2</td>\n",
              "      <td>2</td>\n",
              "    </tr>\n",
              "    <tr>\n",
              "      <th>3</th>\n",
              "      <td>4.75</td>\n",
              "      <td>4</td>\n",
              "      <td>3</td>\n",
              "    </tr>\n",
              "    <tr>\n",
              "      <th>6</th>\n",
              "      <td>2.50</td>\n",
              "      <td>2</td>\n",
              "      <td>6</td>\n",
              "    </tr>\n",
              "    <tr>\n",
              "      <th>8</th>\n",
              "      <td>3.60</td>\n",
              "      <td>20</td>\n",
              "      <td>8</td>\n",
              "    </tr>\n",
              "  </tbody>\n",
              "</table>\n",
              "</div>"
            ],
            "text/plain": [
              "         mean  count  MovieID\n",
              "MovieID                      \n",
              "1        4.50      2        1\n",
              "2        3.50      2        2\n",
              "3        4.75      4        3\n",
              "6        2.50      2        6\n",
              "8        3.60     20        8"
            ]
          },
          "metadata": {
            "tags": []
          },
          "execution_count": 20
        }
      ]
    },
    {
      "cell_type": "code",
      "metadata": {
        "id": "dcbvOtTvFGkH",
        "colab_type": "code",
        "outputId": "338cec46-ce56-4fd3-9e5c-46b96481c831",
        "colab": {
          "base_uri": "https://localhost:8080/",
          "height": 237
        }
      },
      "source": [
        "#only include movies with more than 10 ratings\n",
        "movie_plus_10_ratings = avg_movie_rating.loc[avg_movie_rating['count']>=50]\n",
        "movie_plus_10_ratings = movie_plus_10_ratings.drop('MovieID', axis=1)\n",
        "movie_plus_10_ratings.head()"
      ],
      "execution_count": 0,
      "outputs": [
        {
          "output_type": "execute_result",
          "data": {
            "text/html": [
              "<div>\n",
              "<style scoped>\n",
              "    .dataframe tbody tr th:only-of-type {\n",
              "        vertical-align: middle;\n",
              "    }\n",
              "\n",
              "    .dataframe tbody tr th {\n",
              "        vertical-align: top;\n",
              "    }\n",
              "\n",
              "    .dataframe thead th {\n",
              "        text-align: right;\n",
              "    }\n",
              "</style>\n",
              "<table border=\"1\" class=\"dataframe\">\n",
              "  <thead>\n",
              "    <tr style=\"text-align: right;\">\n",
              "      <th></th>\n",
              "      <th>mean</th>\n",
              "      <th>count</th>\n",
              "    </tr>\n",
              "    <tr>\n",
              "      <th>MovieID</th>\n",
              "      <th></th>\n",
              "      <th></th>\n",
              "    </tr>\n",
              "  </thead>\n",
              "  <tbody>\n",
              "    <tr>\n",
              "      <th>28</th>\n",
              "      <td>3.643836</td>\n",
              "      <td>73</td>\n",
              "    </tr>\n",
              "    <tr>\n",
              "      <th>30</th>\n",
              "      <td>3.673640</td>\n",
              "      <td>239</td>\n",
              "    </tr>\n",
              "    <tr>\n",
              "      <th>111</th>\n",
              "      <td>3.065574</td>\n",
              "      <td>61</td>\n",
              "    </tr>\n",
              "    <tr>\n",
              "      <th>143</th>\n",
              "      <td>4.069444</td>\n",
              "      <td>72</td>\n",
              "    </tr>\n",
              "    <tr>\n",
              "      <th>175</th>\n",
              "      <td>4.106952</td>\n",
              "      <td>187</td>\n",
              "    </tr>\n",
              "  </tbody>\n",
              "</table>\n",
              "</div>"
            ],
            "text/plain": [
              "             mean  count\n",
              "MovieID                 \n",
              "28       3.643836     73\n",
              "30       3.673640    239\n",
              "111      3.065574     61\n",
              "143      4.069444     72\n",
              "175      4.106952    187"
            ]
          },
          "metadata": {
            "tags": []
          },
          "execution_count": 21
        }
      ]
    },
    {
      "cell_type": "code",
      "metadata": {
        "id": "WipK8uK3FknH",
        "colab_type": "code",
        "colab": {}
      },
      "source": [
        "filtered_ratings = pd.merge(movie_plus_10_ratings, df_ratings, on=\"MovieID\")"
      ],
      "execution_count": 0,
      "outputs": []
    },
    {
      "cell_type": "code",
      "metadata": {
        "id": "TCXwThJrGVSU",
        "colab_type": "code",
        "outputId": "5bc05b3e-14de-4436-8cea-4883f6d46677",
        "colab": {
          "base_uri": "https://localhost:8080/",
          "height": 206
        }
      },
      "source": [
        "filtered_ratings.head()"
      ],
      "execution_count": 0,
      "outputs": [
        {
          "output_type": "execute_result",
          "data": {
            "text/html": [
              "<div>\n",
              "<style scoped>\n",
              "    .dataframe tbody tr th:only-of-type {\n",
              "        vertical-align: middle;\n",
              "    }\n",
              "\n",
              "    .dataframe tbody tr th {\n",
              "        vertical-align: top;\n",
              "    }\n",
              "\n",
              "    .dataframe thead th {\n",
              "        text-align: right;\n",
              "    }\n",
              "</style>\n",
              "<table border=\"1\" class=\"dataframe\">\n",
              "  <thead>\n",
              "    <tr style=\"text-align: right;\">\n",
              "      <th></th>\n",
              "      <th>MovieID</th>\n",
              "      <th>mean</th>\n",
              "      <th>count</th>\n",
              "      <th>CustID</th>\n",
              "      <th>Ratings</th>\n",
              "    </tr>\n",
              "  </thead>\n",
              "  <tbody>\n",
              "    <tr>\n",
              "      <th>0</th>\n",
              "      <td>28</td>\n",
              "      <td>3.643836</td>\n",
              "      <td>73</td>\n",
              "      <td>484292</td>\n",
              "      <td>4.0</td>\n",
              "    </tr>\n",
              "    <tr>\n",
              "      <th>1</th>\n",
              "      <td>28</td>\n",
              "      <td>3.643836</td>\n",
              "      <td>73</td>\n",
              "      <td>2001296</td>\n",
              "      <td>3.0</td>\n",
              "    </tr>\n",
              "    <tr>\n",
              "      <th>2</th>\n",
              "      <td>28</td>\n",
              "      <td>3.643836</td>\n",
              "      <td>73</td>\n",
              "      <td>60171</td>\n",
              "      <td>3.0</td>\n",
              "    </tr>\n",
              "    <tr>\n",
              "      <th>3</th>\n",
              "      <td>28</td>\n",
              "      <td>3.643836</td>\n",
              "      <td>73</td>\n",
              "      <td>2137060</td>\n",
              "      <td>3.0</td>\n",
              "    </tr>\n",
              "    <tr>\n",
              "      <th>4</th>\n",
              "      <td>28</td>\n",
              "      <td>3.643836</td>\n",
              "      <td>73</td>\n",
              "      <td>1095936</td>\n",
              "      <td>5.0</td>\n",
              "    </tr>\n",
              "  </tbody>\n",
              "</table>\n",
              "</div>"
            ],
            "text/plain": [
              "   MovieID      mean  count   CustID  Ratings\n",
              "0       28  3.643836     73   484292      4.0\n",
              "1       28  3.643836     73  2001296      3.0\n",
              "2       28  3.643836     73    60171      3.0\n",
              "3       28  3.643836     73  2137060      3.0\n",
              "4       28  3.643836     73  1095936      5.0"
            ]
          },
          "metadata": {
            "tags": []
          },
          "execution_count": 23
        }
      ]
    },
    {
      "cell_type": "code",
      "metadata": {
        "id": "FtzPI0hxI1j0",
        "colab_type": "code",
        "outputId": "33599647-ac9f-4871-a00b-77270eb20e05",
        "colab": {
          "base_uri": "https://localhost:8080/",
          "height": 286
        }
      },
      "source": [
        "#create a matrix table with movieIds on the rows and userIds in the columns.\n",
        "#replace NAN values with 0\n",
        "movie_wide = filtered_ratings.pivot(index = 'MovieID', columns = 'CustID', values = 'Ratings').fillna(0)\n",
        "movie_wide.head()"
      ],
      "execution_count": 0,
      "outputs": [
        {
          "output_type": "execute_result",
          "data": {
            "text/html": [
              "<div>\n",
              "<style scoped>\n",
              "    .dataframe tbody tr th:only-of-type {\n",
              "        vertical-align: middle;\n",
              "    }\n",
              "\n",
              "    .dataframe tbody tr th {\n",
              "        vertical-align: top;\n",
              "    }\n",
              "\n",
              "    .dataframe thead th {\n",
              "        text-align: right;\n",
              "    }\n",
              "</style>\n",
              "<table border=\"1\" class=\"dataframe\">\n",
              "  <thead>\n",
              "    <tr style=\"text-align: right;\">\n",
              "      <th>CustID</th>\n",
              "      <th>6</th>\n",
              "      <th>8</th>\n",
              "      <th>94</th>\n",
              "      <th>97</th>\n",
              "      <th>130</th>\n",
              "      <th>134</th>\n",
              "      <th>169</th>\n",
              "      <th>178</th>\n",
              "      <th>188</th>\n",
              "      <th>192</th>\n",
              "      <th>199</th>\n",
              "      <th>201</th>\n",
              "      <th>265</th>\n",
              "      <th>296</th>\n",
              "      <th>299</th>\n",
              "      <th>314</th>\n",
              "      <th>352</th>\n",
              "      <th>383</th>\n",
              "      <th>424</th>\n",
              "      <th>437</th>\n",
              "      <th>462</th>\n",
              "      <th>481</th>\n",
              "      <th>544</th>\n",
              "      <th>561</th>\n",
              "      <th>578</th>\n",
              "      <th>592</th>\n",
              "      <th>602</th>\n",
              "      <th>624</th>\n",
              "      <th>657</th>\n",
              "      <th>684</th>\n",
              "      <th>688</th>\n",
              "      <th>692</th>\n",
              "      <th>695</th>\n",
              "      <th>735</th>\n",
              "      <th>750</th>\n",
              "      <th>769</th>\n",
              "      <th>788</th>\n",
              "      <th>815</th>\n",
              "      <th>906</th>\n",
              "      <th>981</th>\n",
              "      <th>...</th>\n",
              "      <th>2648451</th>\n",
              "      <th>2648465</th>\n",
              "      <th>2648502</th>\n",
              "      <th>2648546</th>\n",
              "      <th>2648589</th>\n",
              "      <th>2648597</th>\n",
              "      <th>2648599</th>\n",
              "      <th>2648623</th>\n",
              "      <th>2648633</th>\n",
              "      <th>2648670</th>\n",
              "      <th>2648674</th>\n",
              "      <th>2648730</th>\n",
              "      <th>2648734</th>\n",
              "      <th>2648745</th>\n",
              "      <th>2648747</th>\n",
              "      <th>2648767</th>\n",
              "      <th>2648768</th>\n",
              "      <th>2648826</th>\n",
              "      <th>2648827</th>\n",
              "      <th>2648838</th>\n",
              "      <th>2648845</th>\n",
              "      <th>2648861</th>\n",
              "      <th>2648873</th>\n",
              "      <th>2648885</th>\n",
              "      <th>2648928</th>\n",
              "      <th>2649027</th>\n",
              "      <th>2649052</th>\n",
              "      <th>2649057</th>\n",
              "      <th>2649077</th>\n",
              "      <th>2649116</th>\n",
              "      <th>2649231</th>\n",
              "      <th>2649257</th>\n",
              "      <th>2649267</th>\n",
              "      <th>2649308</th>\n",
              "      <th>2649336</th>\n",
              "      <th>2649370</th>\n",
              "      <th>2649375</th>\n",
              "      <th>2649379</th>\n",
              "      <th>2649388</th>\n",
              "      <th>2649429</th>\n",
              "    </tr>\n",
              "    <tr>\n",
              "      <th>MovieID</th>\n",
              "      <th></th>\n",
              "      <th></th>\n",
              "      <th></th>\n",
              "      <th></th>\n",
              "      <th></th>\n",
              "      <th></th>\n",
              "      <th></th>\n",
              "      <th></th>\n",
              "      <th></th>\n",
              "      <th></th>\n",
              "      <th></th>\n",
              "      <th></th>\n",
              "      <th></th>\n",
              "      <th></th>\n",
              "      <th></th>\n",
              "      <th></th>\n",
              "      <th></th>\n",
              "      <th></th>\n",
              "      <th></th>\n",
              "      <th></th>\n",
              "      <th></th>\n",
              "      <th></th>\n",
              "      <th></th>\n",
              "      <th></th>\n",
              "      <th></th>\n",
              "      <th></th>\n",
              "      <th></th>\n",
              "      <th></th>\n",
              "      <th></th>\n",
              "      <th></th>\n",
              "      <th></th>\n",
              "      <th></th>\n",
              "      <th></th>\n",
              "      <th></th>\n",
              "      <th></th>\n",
              "      <th></th>\n",
              "      <th></th>\n",
              "      <th></th>\n",
              "      <th></th>\n",
              "      <th></th>\n",
              "      <th></th>\n",
              "      <th></th>\n",
              "      <th></th>\n",
              "      <th></th>\n",
              "      <th></th>\n",
              "      <th></th>\n",
              "      <th></th>\n",
              "      <th></th>\n",
              "      <th></th>\n",
              "      <th></th>\n",
              "      <th></th>\n",
              "      <th></th>\n",
              "      <th></th>\n",
              "      <th></th>\n",
              "      <th></th>\n",
              "      <th></th>\n",
              "      <th></th>\n",
              "      <th></th>\n",
              "      <th></th>\n",
              "      <th></th>\n",
              "      <th></th>\n",
              "      <th></th>\n",
              "      <th></th>\n",
              "      <th></th>\n",
              "      <th></th>\n",
              "      <th></th>\n",
              "      <th></th>\n",
              "      <th></th>\n",
              "      <th></th>\n",
              "      <th></th>\n",
              "      <th></th>\n",
              "      <th></th>\n",
              "      <th></th>\n",
              "      <th></th>\n",
              "      <th></th>\n",
              "      <th></th>\n",
              "      <th></th>\n",
              "      <th></th>\n",
              "      <th></th>\n",
              "      <th></th>\n",
              "      <th></th>\n",
              "    </tr>\n",
              "  </thead>\n",
              "  <tbody>\n",
              "    <tr>\n",
              "      <th>28</th>\n",
              "      <td>0.0</td>\n",
              "      <td>0.0</td>\n",
              "      <td>0.0</td>\n",
              "      <td>0.0</td>\n",
              "      <td>0.0</td>\n",
              "      <td>0.0</td>\n",
              "      <td>0.0</td>\n",
              "      <td>0.0</td>\n",
              "      <td>0.0</td>\n",
              "      <td>0.0</td>\n",
              "      <td>0.0</td>\n",
              "      <td>0.0</td>\n",
              "      <td>0.0</td>\n",
              "      <td>0.0</td>\n",
              "      <td>0.0</td>\n",
              "      <td>0.0</td>\n",
              "      <td>0.0</td>\n",
              "      <td>0.0</td>\n",
              "      <td>0.0</td>\n",
              "      <td>0.0</td>\n",
              "      <td>0.0</td>\n",
              "      <td>0.0</td>\n",
              "      <td>0.0</td>\n",
              "      <td>0.0</td>\n",
              "      <td>0.0</td>\n",
              "      <td>0.0</td>\n",
              "      <td>0.0</td>\n",
              "      <td>0.0</td>\n",
              "      <td>0.0</td>\n",
              "      <td>0.0</td>\n",
              "      <td>0.0</td>\n",
              "      <td>0.0</td>\n",
              "      <td>0.0</td>\n",
              "      <td>0.0</td>\n",
              "      <td>0.0</td>\n",
              "      <td>0.0</td>\n",
              "      <td>0.0</td>\n",
              "      <td>0.0</td>\n",
              "      <td>0.0</td>\n",
              "      <td>0.0</td>\n",
              "      <td>...</td>\n",
              "      <td>0.0</td>\n",
              "      <td>0.0</td>\n",
              "      <td>0.0</td>\n",
              "      <td>0.0</td>\n",
              "      <td>0.0</td>\n",
              "      <td>0.0</td>\n",
              "      <td>0.0</td>\n",
              "      <td>0.0</td>\n",
              "      <td>0.0</td>\n",
              "      <td>0.0</td>\n",
              "      <td>0.0</td>\n",
              "      <td>0.0</td>\n",
              "      <td>0.0</td>\n",
              "      <td>0.0</td>\n",
              "      <td>0.0</td>\n",
              "      <td>0.0</td>\n",
              "      <td>0.0</td>\n",
              "      <td>0.0</td>\n",
              "      <td>0.0</td>\n",
              "      <td>0.0</td>\n",
              "      <td>0.0</td>\n",
              "      <td>0.0</td>\n",
              "      <td>0.0</td>\n",
              "      <td>0.0</td>\n",
              "      <td>0.0</td>\n",
              "      <td>0.0</td>\n",
              "      <td>0.0</td>\n",
              "      <td>0.0</td>\n",
              "      <td>0.0</td>\n",
              "      <td>0.0</td>\n",
              "      <td>0.0</td>\n",
              "      <td>0.0</td>\n",
              "      <td>0.0</td>\n",
              "      <td>0.0</td>\n",
              "      <td>0.0</td>\n",
              "      <td>0.0</td>\n",
              "      <td>0.0</td>\n",
              "      <td>0.0</td>\n",
              "      <td>0.0</td>\n",
              "      <td>0.0</td>\n",
              "    </tr>\n",
              "    <tr>\n",
              "      <th>30</th>\n",
              "      <td>0.0</td>\n",
              "      <td>0.0</td>\n",
              "      <td>0.0</td>\n",
              "      <td>0.0</td>\n",
              "      <td>0.0</td>\n",
              "      <td>0.0</td>\n",
              "      <td>0.0</td>\n",
              "      <td>0.0</td>\n",
              "      <td>0.0</td>\n",
              "      <td>0.0</td>\n",
              "      <td>0.0</td>\n",
              "      <td>0.0</td>\n",
              "      <td>0.0</td>\n",
              "      <td>0.0</td>\n",
              "      <td>0.0</td>\n",
              "      <td>0.0</td>\n",
              "      <td>0.0</td>\n",
              "      <td>0.0</td>\n",
              "      <td>0.0</td>\n",
              "      <td>0.0</td>\n",
              "      <td>0.0</td>\n",
              "      <td>0.0</td>\n",
              "      <td>0.0</td>\n",
              "      <td>0.0</td>\n",
              "      <td>0.0</td>\n",
              "      <td>0.0</td>\n",
              "      <td>0.0</td>\n",
              "      <td>0.0</td>\n",
              "      <td>0.0</td>\n",
              "      <td>0.0</td>\n",
              "      <td>0.0</td>\n",
              "      <td>0.0</td>\n",
              "      <td>0.0</td>\n",
              "      <td>0.0</td>\n",
              "      <td>0.0</td>\n",
              "      <td>0.0</td>\n",
              "      <td>0.0</td>\n",
              "      <td>0.0</td>\n",
              "      <td>0.0</td>\n",
              "      <td>0.0</td>\n",
              "      <td>...</td>\n",
              "      <td>0.0</td>\n",
              "      <td>0.0</td>\n",
              "      <td>0.0</td>\n",
              "      <td>0.0</td>\n",
              "      <td>0.0</td>\n",
              "      <td>0.0</td>\n",
              "      <td>0.0</td>\n",
              "      <td>0.0</td>\n",
              "      <td>0.0</td>\n",
              "      <td>0.0</td>\n",
              "      <td>0.0</td>\n",
              "      <td>0.0</td>\n",
              "      <td>0.0</td>\n",
              "      <td>0.0</td>\n",
              "      <td>0.0</td>\n",
              "      <td>0.0</td>\n",
              "      <td>0.0</td>\n",
              "      <td>0.0</td>\n",
              "      <td>0.0</td>\n",
              "      <td>0.0</td>\n",
              "      <td>0.0</td>\n",
              "      <td>0.0</td>\n",
              "      <td>0.0</td>\n",
              "      <td>0.0</td>\n",
              "      <td>0.0</td>\n",
              "      <td>0.0</td>\n",
              "      <td>0.0</td>\n",
              "      <td>0.0</td>\n",
              "      <td>0.0</td>\n",
              "      <td>0.0</td>\n",
              "      <td>0.0</td>\n",
              "      <td>0.0</td>\n",
              "      <td>0.0</td>\n",
              "      <td>0.0</td>\n",
              "      <td>0.0</td>\n",
              "      <td>0.0</td>\n",
              "      <td>0.0</td>\n",
              "      <td>0.0</td>\n",
              "      <td>0.0</td>\n",
              "      <td>0.0</td>\n",
              "    </tr>\n",
              "    <tr>\n",
              "      <th>111</th>\n",
              "      <td>0.0</td>\n",
              "      <td>0.0</td>\n",
              "      <td>0.0</td>\n",
              "      <td>0.0</td>\n",
              "      <td>0.0</td>\n",
              "      <td>0.0</td>\n",
              "      <td>0.0</td>\n",
              "      <td>0.0</td>\n",
              "      <td>0.0</td>\n",
              "      <td>0.0</td>\n",
              "      <td>0.0</td>\n",
              "      <td>0.0</td>\n",
              "      <td>0.0</td>\n",
              "      <td>0.0</td>\n",
              "      <td>0.0</td>\n",
              "      <td>0.0</td>\n",
              "      <td>0.0</td>\n",
              "      <td>0.0</td>\n",
              "      <td>0.0</td>\n",
              "      <td>0.0</td>\n",
              "      <td>0.0</td>\n",
              "      <td>0.0</td>\n",
              "      <td>0.0</td>\n",
              "      <td>0.0</td>\n",
              "      <td>0.0</td>\n",
              "      <td>0.0</td>\n",
              "      <td>0.0</td>\n",
              "      <td>0.0</td>\n",
              "      <td>0.0</td>\n",
              "      <td>0.0</td>\n",
              "      <td>0.0</td>\n",
              "      <td>0.0</td>\n",
              "      <td>0.0</td>\n",
              "      <td>0.0</td>\n",
              "      <td>0.0</td>\n",
              "      <td>0.0</td>\n",
              "      <td>0.0</td>\n",
              "      <td>0.0</td>\n",
              "      <td>0.0</td>\n",
              "      <td>0.0</td>\n",
              "      <td>...</td>\n",
              "      <td>0.0</td>\n",
              "      <td>0.0</td>\n",
              "      <td>0.0</td>\n",
              "      <td>0.0</td>\n",
              "      <td>0.0</td>\n",
              "      <td>0.0</td>\n",
              "      <td>0.0</td>\n",
              "      <td>0.0</td>\n",
              "      <td>0.0</td>\n",
              "      <td>0.0</td>\n",
              "      <td>0.0</td>\n",
              "      <td>0.0</td>\n",
              "      <td>0.0</td>\n",
              "      <td>0.0</td>\n",
              "      <td>0.0</td>\n",
              "      <td>0.0</td>\n",
              "      <td>0.0</td>\n",
              "      <td>0.0</td>\n",
              "      <td>0.0</td>\n",
              "      <td>0.0</td>\n",
              "      <td>0.0</td>\n",
              "      <td>0.0</td>\n",
              "      <td>0.0</td>\n",
              "      <td>0.0</td>\n",
              "      <td>0.0</td>\n",
              "      <td>0.0</td>\n",
              "      <td>0.0</td>\n",
              "      <td>0.0</td>\n",
              "      <td>0.0</td>\n",
              "      <td>0.0</td>\n",
              "      <td>0.0</td>\n",
              "      <td>0.0</td>\n",
              "      <td>0.0</td>\n",
              "      <td>0.0</td>\n",
              "      <td>0.0</td>\n",
              "      <td>0.0</td>\n",
              "      <td>0.0</td>\n",
              "      <td>0.0</td>\n",
              "      <td>0.0</td>\n",
              "      <td>0.0</td>\n",
              "    </tr>\n",
              "    <tr>\n",
              "      <th>143</th>\n",
              "      <td>0.0</td>\n",
              "      <td>0.0</td>\n",
              "      <td>0.0</td>\n",
              "      <td>0.0</td>\n",
              "      <td>0.0</td>\n",
              "      <td>0.0</td>\n",
              "      <td>0.0</td>\n",
              "      <td>0.0</td>\n",
              "      <td>0.0</td>\n",
              "      <td>0.0</td>\n",
              "      <td>0.0</td>\n",
              "      <td>0.0</td>\n",
              "      <td>0.0</td>\n",
              "      <td>0.0</td>\n",
              "      <td>0.0</td>\n",
              "      <td>0.0</td>\n",
              "      <td>0.0</td>\n",
              "      <td>0.0</td>\n",
              "      <td>0.0</td>\n",
              "      <td>0.0</td>\n",
              "      <td>0.0</td>\n",
              "      <td>0.0</td>\n",
              "      <td>0.0</td>\n",
              "      <td>0.0</td>\n",
              "      <td>0.0</td>\n",
              "      <td>0.0</td>\n",
              "      <td>0.0</td>\n",
              "      <td>0.0</td>\n",
              "      <td>0.0</td>\n",
              "      <td>0.0</td>\n",
              "      <td>0.0</td>\n",
              "      <td>0.0</td>\n",
              "      <td>0.0</td>\n",
              "      <td>0.0</td>\n",
              "      <td>0.0</td>\n",
              "      <td>0.0</td>\n",
              "      <td>0.0</td>\n",
              "      <td>0.0</td>\n",
              "      <td>0.0</td>\n",
              "      <td>0.0</td>\n",
              "      <td>...</td>\n",
              "      <td>0.0</td>\n",
              "      <td>0.0</td>\n",
              "      <td>0.0</td>\n",
              "      <td>0.0</td>\n",
              "      <td>0.0</td>\n",
              "      <td>0.0</td>\n",
              "      <td>0.0</td>\n",
              "      <td>0.0</td>\n",
              "      <td>0.0</td>\n",
              "      <td>0.0</td>\n",
              "      <td>0.0</td>\n",
              "      <td>0.0</td>\n",
              "      <td>0.0</td>\n",
              "      <td>0.0</td>\n",
              "      <td>0.0</td>\n",
              "      <td>0.0</td>\n",
              "      <td>0.0</td>\n",
              "      <td>0.0</td>\n",
              "      <td>0.0</td>\n",
              "      <td>0.0</td>\n",
              "      <td>0.0</td>\n",
              "      <td>0.0</td>\n",
              "      <td>0.0</td>\n",
              "      <td>0.0</td>\n",
              "      <td>0.0</td>\n",
              "      <td>0.0</td>\n",
              "      <td>0.0</td>\n",
              "      <td>0.0</td>\n",
              "      <td>0.0</td>\n",
              "      <td>0.0</td>\n",
              "      <td>0.0</td>\n",
              "      <td>0.0</td>\n",
              "      <td>0.0</td>\n",
              "      <td>0.0</td>\n",
              "      <td>0.0</td>\n",
              "      <td>0.0</td>\n",
              "      <td>0.0</td>\n",
              "      <td>0.0</td>\n",
              "      <td>0.0</td>\n",
              "      <td>0.0</td>\n",
              "    </tr>\n",
              "    <tr>\n",
              "      <th>175</th>\n",
              "      <td>0.0</td>\n",
              "      <td>0.0</td>\n",
              "      <td>0.0</td>\n",
              "      <td>0.0</td>\n",
              "      <td>0.0</td>\n",
              "      <td>0.0</td>\n",
              "      <td>0.0</td>\n",
              "      <td>0.0</td>\n",
              "      <td>0.0</td>\n",
              "      <td>0.0</td>\n",
              "      <td>0.0</td>\n",
              "      <td>0.0</td>\n",
              "      <td>0.0</td>\n",
              "      <td>0.0</td>\n",
              "      <td>0.0</td>\n",
              "      <td>0.0</td>\n",
              "      <td>0.0</td>\n",
              "      <td>0.0</td>\n",
              "      <td>0.0</td>\n",
              "      <td>0.0</td>\n",
              "      <td>0.0</td>\n",
              "      <td>0.0</td>\n",
              "      <td>0.0</td>\n",
              "      <td>0.0</td>\n",
              "      <td>0.0</td>\n",
              "      <td>0.0</td>\n",
              "      <td>0.0</td>\n",
              "      <td>0.0</td>\n",
              "      <td>0.0</td>\n",
              "      <td>0.0</td>\n",
              "      <td>0.0</td>\n",
              "      <td>0.0</td>\n",
              "      <td>0.0</td>\n",
              "      <td>0.0</td>\n",
              "      <td>0.0</td>\n",
              "      <td>0.0</td>\n",
              "      <td>0.0</td>\n",
              "      <td>0.0</td>\n",
              "      <td>0.0</td>\n",
              "      <td>0.0</td>\n",
              "      <td>...</td>\n",
              "      <td>0.0</td>\n",
              "      <td>0.0</td>\n",
              "      <td>0.0</td>\n",
              "      <td>0.0</td>\n",
              "      <td>0.0</td>\n",
              "      <td>0.0</td>\n",
              "      <td>0.0</td>\n",
              "      <td>0.0</td>\n",
              "      <td>0.0</td>\n",
              "      <td>0.0</td>\n",
              "      <td>0.0</td>\n",
              "      <td>0.0</td>\n",
              "      <td>0.0</td>\n",
              "      <td>0.0</td>\n",
              "      <td>0.0</td>\n",
              "      <td>0.0</td>\n",
              "      <td>0.0</td>\n",
              "      <td>0.0</td>\n",
              "      <td>0.0</td>\n",
              "      <td>0.0</td>\n",
              "      <td>0.0</td>\n",
              "      <td>0.0</td>\n",
              "      <td>0.0</td>\n",
              "      <td>0.0</td>\n",
              "      <td>0.0</td>\n",
              "      <td>0.0</td>\n",
              "      <td>0.0</td>\n",
              "      <td>0.0</td>\n",
              "      <td>0.0</td>\n",
              "      <td>0.0</td>\n",
              "      <td>0.0</td>\n",
              "      <td>0.0</td>\n",
              "      <td>0.0</td>\n",
              "      <td>0.0</td>\n",
              "      <td>0.0</td>\n",
              "      <td>0.0</td>\n",
              "      <td>0.0</td>\n",
              "      <td>0.0</td>\n",
              "      <td>0.0</td>\n",
              "      <td>0.0</td>\n",
              "    </tr>\n",
              "  </tbody>\n",
              "</table>\n",
              "<p>5 rows × 97984 columns</p>\n",
              "</div>"
            ],
            "text/plain": [
              "CustID   6        8        94       97       ...  2649375  2649379  2649388  2649429\n",
              "MovieID                                      ...                                    \n",
              "28           0.0      0.0      0.0      0.0  ...      0.0      0.0      0.0      0.0\n",
              "30           0.0      0.0      0.0      0.0  ...      0.0      0.0      0.0      0.0\n",
              "111          0.0      0.0      0.0      0.0  ...      0.0      0.0      0.0      0.0\n",
              "143          0.0      0.0      0.0      0.0  ...      0.0      0.0      0.0      0.0\n",
              "175          0.0      0.0      0.0      0.0  ...      0.0      0.0      0.0      0.0\n",
              "\n",
              "[5 rows x 97984 columns]"
            ]
          },
          "metadata": {
            "tags": []
          },
          "execution_count": 24
        }
      ]
    },
    {
      "cell_type": "code",
      "metadata": {
        "id": "wrQ-qnjhUAkn",
        "colab_type": "code",
        "outputId": "7f2c54c2-6f40-4a1c-c0d2-430f95a8624c",
        "colab": {
          "base_uri": "https://localhost:8080/",
          "height": 69
        }
      },
      "source": [
        "#specify model parameters\n",
        "model_knn = NearestNeighbors(metric='cosine',algorithm='brute')\n",
        "#fit model to the data set\n",
        "model_knn.fit(movie_wide)"
      ],
      "execution_count": 0,
      "outputs": [
        {
          "output_type": "execute_result",
          "data": {
            "text/plain": [
              "NearestNeighbors(algorithm='brute', leaf_size=30, metric='cosine',\n",
              "                 metric_params=None, n_jobs=None, n_neighbors=5, p=2,\n",
              "                 radius=1.0)"
            ]
          },
          "metadata": {
            "tags": []
          },
          "execution_count": 25
        }
      ]
    },
    {
      "cell_type": "code",
      "metadata": {
        "id": "mlNmPQJaUM0e",
        "colab_type": "code",
        "colab": {}
      },
      "source": [
        "#Gets the top 10 nearest neighbours got the movie\n",
        "def print_similar_movies(query_index) :\n",
        "    #get the list of user ratings for a specific userId\n",
        "    query_index_movie_ratings = movie_wide.loc[query_index,:].values.reshape(1,-1)\n",
        "    #get the closest 10 movies and their distances from the movie specified\n",
        "    distances,indices = model_knn.kneighbors(query_index_movie_ratings,n_neighbors = 11) \n",
        "    #write a lopp that prints the similar movies for a specified movie.\n",
        "    for i in range(0,len(distances.flatten())):\n",
        "        #get the title of the random movie that was chosen\n",
        "        get_movie = df_movies.loc[df_movies['MovieID']==query_index]['Name']\n",
        "        #for the first movie in the list i.e closest print the title\n",
        "        if i==0:\n",
        "            print('Recommendations for {0}:\\n'.format(get_movie))\n",
        "        else :\n",
        "            #get the indiciees for the closest movies\n",
        "            indices_flat = indices.flatten()[i]\n",
        "            #get the title of the movie\n",
        "            get_movie = df_movies.loc[df_movies['MovieID']==movie_wide.iloc[indices_flat,:].name]['Name']\n",
        "            #print the movie\n",
        "            print('{0}: {1}, with distance of {2}:'.format(i,get_movie,distances.flatten()[i]))"
      ],
      "execution_count": 0,
      "outputs": []
    },
    {
      "cell_type": "code",
      "metadata": {
        "id": "UN0jTbWqUVTd",
        "colab_type": "code",
        "outputId": "ea2fc952-5758-4eda-8b12-f702dda8fbda",
        "colab": {
          "base_uri": "https://localhost:8080/",
          "height": 415
        }
      },
      "source": [
        "print_similar_movies(30)"
      ],
      "execution_count": 0,
      "outputs": [
        {
          "output_type": "stream",
          "text": [
            "Recommendations for 29    Something's Gotta Give\n",
            "Name: Name, dtype: object:\n",
            "\n",
            "1: 329    Wild Things\n",
            "Name: Name, dtype: object, with distance of 0.975179578954264:\n",
            "2: 9457    Kingdom of Heaven\n",
            "Name: Name, dtype: object, with distance of 0.9836149076392955:\n",
            "3: 13317    The Core\n",
            "Name: Name, dtype: object, with distance of 0.9860135345876989:\n",
            "4: 4545    Chasing Liberty\n",
            "Name: Name, dtype: object, with distance of 0.9864740750290822:\n",
            "5: 8044    Open Range\n",
            "Name: Name, dtype: object, with distance of 0.9870408818068898:\n",
            "6: 10077    Indecent Proposal\n",
            "Name: Name, dtype: object, with distance of 0.9880962610710223:\n",
            "7: 2494    Exit Wounds\n",
            "Name: Name, dtype: object, with distance of 0.9889654862181552:\n",
            "8: 15757    Amadeus\n",
            "Name: Name, dtype: object, with distance of 0.9900316364346116:\n",
            "9: 16302    Atlantis: The Lost Empire\n",
            "Name: Name, dtype: object, with distance of 0.9900727407709027:\n",
            "10: 11397    Airplane!\n",
            "Name: Name, dtype: object, with distance of 0.990546464587432:\n"
          ],
          "name": "stdout"
        }
      ]
    },
    {
      "cell_type": "markdown",
      "metadata": {
        "id": "MKeiQsRcsPcj",
        "colab_type": "text"
      },
      "source": [
        "### Training the data"
      ]
    },
    {
      "cell_type": "code",
      "metadata": {
        "id": "-TvaZjZUsZKT",
        "colab_type": "code",
        "outputId": "446e278a-c3c8-494e-80a1-745c823d870b",
        "colab": {
          "base_uri": "https://localhost:8080/",
          "height": 206
        }
      },
      "source": [
        "#get ordered list of movieIds\n",
        "item_indices = pd.DataFrame(sorted(list(set(df_ratings['MovieID']))),columns=['MovieID'])\n",
        "#add in data frame index value to data frame\n",
        "item_indices['movie_index']=item_indices.index\n",
        "#inspect data frame\n",
        "item_indices.head()"
      ],
      "execution_count": 0,
      "outputs": [
        {
          "output_type": "execute_result",
          "data": {
            "text/html": [
              "<div>\n",
              "<style scoped>\n",
              "    .dataframe tbody tr th:only-of-type {\n",
              "        vertical-align: middle;\n",
              "    }\n",
              "\n",
              "    .dataframe tbody tr th {\n",
              "        vertical-align: top;\n",
              "    }\n",
              "\n",
              "    .dataframe thead th {\n",
              "        text-align: right;\n",
              "    }\n",
              "</style>\n",
              "<table border=\"1\" class=\"dataframe\">\n",
              "  <thead>\n",
              "    <tr style=\"text-align: right;\">\n",
              "      <th></th>\n",
              "      <th>MovieID</th>\n",
              "      <th>movie_index</th>\n",
              "    </tr>\n",
              "  </thead>\n",
              "  <tbody>\n",
              "    <tr>\n",
              "      <th>0</th>\n",
              "      <td>1</td>\n",
              "      <td>0</td>\n",
              "    </tr>\n",
              "    <tr>\n",
              "      <th>1</th>\n",
              "      <td>2</td>\n",
              "      <td>1</td>\n",
              "    </tr>\n",
              "    <tr>\n",
              "      <th>2</th>\n",
              "      <td>3</td>\n",
              "      <td>2</td>\n",
              "    </tr>\n",
              "    <tr>\n",
              "      <th>3</th>\n",
              "      <td>6</td>\n",
              "      <td>3</td>\n",
              "    </tr>\n",
              "    <tr>\n",
              "      <th>4</th>\n",
              "      <td>8</td>\n",
              "      <td>4</td>\n",
              "    </tr>\n",
              "  </tbody>\n",
              "</table>\n",
              "</div>"
            ],
            "text/plain": [
              "   MovieID  movie_index\n",
              "0        1            0\n",
              "1        2            1\n",
              "2        3            2\n",
              "3        6            3\n",
              "4        8            4"
            ]
          },
          "metadata": {
            "tags": []
          },
          "execution_count": 28
        }
      ]
    },
    {
      "cell_type": "code",
      "metadata": {
        "id": "NItNy7sQshpw",
        "colab_type": "code",
        "outputId": "42a469d8-eb71-4e3b-fa9a-ea48c2bde7c2",
        "colab": {
          "base_uri": "https://localhost:8080/",
          "height": 206
        }
      },
      "source": [
        "#get ordered list of User ID\n",
        "user_indices = pd.DataFrame(sorted(list(set(df_ratings['CustID']))),columns=['CustID'])\n",
        "#add in data frame index value to data frame\n",
        "user_indices['user_index']=user_indices.index\n",
        "#inspect data frame\n",
        "user_indices.head()"
      ],
      "execution_count": 0,
      "outputs": [
        {
          "output_type": "execute_result",
          "data": {
            "text/html": [
              "<div>\n",
              "<style scoped>\n",
              "    .dataframe tbody tr th:only-of-type {\n",
              "        vertical-align: middle;\n",
              "    }\n",
              "\n",
              "    .dataframe tbody tr th {\n",
              "        vertical-align: top;\n",
              "    }\n",
              "\n",
              "    .dataframe thead th {\n",
              "        text-align: right;\n",
              "    }\n",
              "</style>\n",
              "<table border=\"1\" class=\"dataframe\">\n",
              "  <thead>\n",
              "    <tr style=\"text-align: right;\">\n",
              "      <th></th>\n",
              "      <th>CustID</th>\n",
              "      <th>user_index</th>\n",
              "    </tr>\n",
              "  </thead>\n",
              "  <tbody>\n",
              "    <tr>\n",
              "      <th>0</th>\n",
              "      <td>6</td>\n",
              "      <td>0</td>\n",
              "    </tr>\n",
              "    <tr>\n",
              "      <th>1</th>\n",
              "      <td>8</td>\n",
              "      <td>1</td>\n",
              "    </tr>\n",
              "    <tr>\n",
              "      <th>2</th>\n",
              "      <td>79</td>\n",
              "      <td>2</td>\n",
              "    </tr>\n",
              "    <tr>\n",
              "      <th>3</th>\n",
              "      <td>87</td>\n",
              "      <td>3</td>\n",
              "    </tr>\n",
              "    <tr>\n",
              "      <th>4</th>\n",
              "      <td>94</td>\n",
              "      <td>4</td>\n",
              "    </tr>\n",
              "  </tbody>\n",
              "</table>\n",
              "</div>"
            ],
            "text/plain": [
              "   CustID  user_index\n",
              "0       6           0\n",
              "1       8           1\n",
              "2      79           2\n",
              "3      87           3\n",
              "4      94           4"
            ]
          },
          "metadata": {
            "tags": []
          },
          "execution_count": 29
        }
      ]
    },
    {
      "cell_type": "code",
      "metadata": {
        "id": "oTin_9MQs8w3",
        "colab_type": "code",
        "outputId": "b1eaa1c4-b5f9-4f77-d7d2-799959bf5f03",
        "colab": {
          "base_uri": "https://localhost:8080/",
          "height": 206
        }
      },
      "source": [
        "#join the movie indices\n",
        "df_with_index = pd.merge(df_ratings,item_indices,on='MovieID')\n",
        "#join the user indices\n",
        "df_with_index=pd.merge(df_with_index,user_indices,on='CustID')\n",
        "#inspec the data frame\n",
        "df_with_index.head()"
      ],
      "execution_count": 0,
      "outputs": [
        {
          "output_type": "execute_result",
          "data": {
            "text/html": [
              "<div>\n",
              "<style scoped>\n",
              "    .dataframe tbody tr th:only-of-type {\n",
              "        vertical-align: middle;\n",
              "    }\n",
              "\n",
              "    .dataframe tbody tr th {\n",
              "        vertical-align: top;\n",
              "    }\n",
              "\n",
              "    .dataframe thead th {\n",
              "        text-align: right;\n",
              "    }\n",
              "</style>\n",
              "<table border=\"1\" class=\"dataframe\">\n",
              "  <thead>\n",
              "    <tr style=\"text-align: right;\">\n",
              "      <th></th>\n",
              "      <th>MovieID</th>\n",
              "      <th>CustID</th>\n",
              "      <th>Ratings</th>\n",
              "      <th>movie_index</th>\n",
              "      <th>user_index</th>\n",
              "    </tr>\n",
              "  </thead>\n",
              "  <tbody>\n",
              "    <tr>\n",
              "      <th>0</th>\n",
              "      <td>12145</td>\n",
              "      <td>1288391</td>\n",
              "      <td>4.0</td>\n",
              "      <td>7830</td>\n",
              "      <td>62206</td>\n",
              "    </tr>\n",
              "    <tr>\n",
              "      <th>1</th>\n",
              "      <td>12299</td>\n",
              "      <td>1288391</td>\n",
              "      <td>4.0</td>\n",
              "      <td>7924</td>\n",
              "      <td>62206</td>\n",
              "    </tr>\n",
              "    <tr>\n",
              "      <th>2</th>\n",
              "      <td>4330</td>\n",
              "      <td>1288391</td>\n",
              "      <td>3.0</td>\n",
              "      <td>2807</td>\n",
              "      <td>62206</td>\n",
              "    </tr>\n",
              "    <tr>\n",
              "      <th>3</th>\n",
              "      <td>12476</td>\n",
              "      <td>1288391</td>\n",
              "      <td>5.0</td>\n",
              "      <td>8043</td>\n",
              "      <td>62206</td>\n",
              "    </tr>\n",
              "    <tr>\n",
              "      <th>4</th>\n",
              "      <td>12145</td>\n",
              "      <td>1109322</td>\n",
              "      <td>5.0</td>\n",
              "      <td>7830</td>\n",
              "      <td>53580</td>\n",
              "    </tr>\n",
              "  </tbody>\n",
              "</table>\n",
              "</div>"
            ],
            "text/plain": [
              "   MovieID   CustID  Ratings  movie_index  user_index\n",
              "0    12145  1288391      4.0         7830       62206\n",
              "1    12299  1288391      4.0         7924       62206\n",
              "2     4330  1288391      3.0         2807       62206\n",
              "3    12476  1288391      5.0         8043       62206\n",
              "4    12145  1109322      5.0         7830       53580"
            ]
          },
          "metadata": {
            "tags": []
          },
          "execution_count": 30
        }
      ]
    },
    {
      "cell_type": "code",
      "metadata": {
        "id": "yF8X7aWgtPeV",
        "colab_type": "code",
        "outputId": "bbcd5180-b7d6-43ea-ee45-5f07bd1f046b",
        "colab": {
          "base_uri": "https://localhost:8080/",
          "height": 51
        }
      },
      "source": [
        "#import train_test_split module\n",
        "from sklearn.model_selection import train_test_split\n",
        "#take 80% as the training set and 20% as the test set\n",
        "df_train, df_test= train_test_split(df_with_index,test_size=0.3)\n",
        "print(len(df_train))\n",
        "print(len(df_test))"
      ],
      "execution_count": 0,
      "outputs": [
        {
          "output_type": "stream",
          "text": [
            "140000\n",
            "60000\n"
          ],
          "name": "stdout"
        }
      ]
    },
    {
      "cell_type": "code",
      "metadata": {
        "id": "Y7yCGbk8uJIb",
        "colab_type": "code",
        "outputId": "d47e395e-2990-4565-b0c9-3edb3b3dd001",
        "colab": {
          "base_uri": "https://localhost:8080/",
          "height": 51
        }
      },
      "source": [
        "n_users = df_ratings.CustID.unique().shape[0]\n",
        "n_items = df_ratings.MovieID.unique().shape[0]\n",
        "print(n_users)\n",
        "print(n_items)"
      ],
      "execution_count": 0,
      "outputs": [
        {
          "output_type": "stream",
          "text": [
            "127972\n",
            "11520\n"
          ],
          "name": "stdout"
        }
      ]
    },
    {
      "cell_type": "code",
      "metadata": {
        "id": "4smLgKPYuFA-",
        "colab_type": "code",
        "outputId": "7fdf6ecb-8f85-44e4-d3a1-f26a1afeab80",
        "colab": {
          "base_uri": "https://localhost:8080/",
          "height": 34
        }
      },
      "source": [
        "#Create two user-item matrices, one for training and another for testing\n",
        "train_data_matrix = np.zeros((n_users, n_items))\n",
        "    #for every line in the data\n",
        "for line in df_train.itertuples():\n",
        "    #set the value in the column and row to \n",
        "    #line[1] is userId, line[2] is movieId and line[3] is rating, line[4] is movie_index and line[5] is user_index\n",
        "    train_data_matrix[line[5], line[4]] = line[3]\n",
        "train_data_matrix.shape"
      ],
      "execution_count": 0,
      "outputs": [
        {
          "output_type": "execute_result",
          "data": {
            "text/plain": [
              "(127972, 11520)"
            ]
          },
          "metadata": {
            "tags": []
          },
          "execution_count": 33
        }
      ]
    },
    {
      "cell_type": "code",
      "metadata": {
        "id": "fT0OA2exuXhS",
        "colab_type": "code",
        "outputId": "8b27a402-1503-4fb3-d4d2-3e21f7f305ba",
        "colab": {
          "base_uri": "https://localhost:8080/",
          "height": 34
        }
      },
      "source": [
        "#Create two user-item matrices, one for training and another for testing\n",
        "test_data_matrix = np.zeros((n_users, n_items))\n",
        "    #for every line in the data\n",
        "for line in df_test[:1].itertuples():\n",
        "    #set the value in the column and row to \n",
        "    #line[1] is userId, line[2] is movieId and line[3] is rating, line[4] is movie_index and line[5] is user_index\n",
        "    #print(line[2])\n",
        "    test_data_matrix[line[5], line[4]] = line[3]\n",
        "    #train_data_matrix[line['movieId'], line['userId']] = line['rating']\n",
        "test_data_matrix.shape"
      ],
      "execution_count": 0,
      "outputs": [
        {
          "output_type": "execute_result",
          "data": {
            "text/plain": [
              "(127972, 11520)"
            ]
          },
          "metadata": {
            "tags": []
          },
          "execution_count": 34
        }
      ]
    },
    {
      "cell_type": "code",
      "metadata": {
        "id": "0RaOQCeZujSj",
        "colab_type": "code",
        "colab": {}
      },
      "source": [
        "from sklearn.metrics import mean_squared_error\n",
        "from math import sqrt\n",
        "def rmse(prediction, ground_truth):\n",
        "    #select prediction values that are non-zero and flatten into 1 array\n",
        "    prediction = prediction[ground_truth.nonzero()].flatten() \n",
        "    #select test values that are non-zero and flatten into 1 array\n",
        "    ground_truth = ground_truth[ground_truth.nonzero()].flatten()\n",
        "    #return RMSE between values\n",
        "    return sqrt(mean_squared_error(prediction, ground_truth))"
      ],
      "execution_count": 0,
      "outputs": []
    },
    {
      "cell_type": "code",
      "metadata": {
        "id": "77f7MFshunpw",
        "colab_type": "code",
        "colab": {}
      },
      "source": [
        "#Calculate the rmse sscore of SVD using different values of k (latent features)\n",
        "rmse_list = []\n",
        "for i in [2]:\n",
        "    #apply svd to the test data\n",
        "    u,s,vt = svds(train_data_matrix,k=i)\n",
        "    #get diagonal matrix\n",
        "    s_diag_matrix=np.diag(s)\n",
        "    #predict x with dot product of u s_diag and vt\n",
        "    X_pred = np.dot(np.dot(u,s_diag_matrix),vt)\n",
        "    #calculate rmse score of matrix factorisation predictions\n",
        "    rmse_score = rmse(X_pred,test_data_matrix)\n",
        "    rmse_list.append(rmse_score)\n",
        "    print(\"Matrix Factorisation with \" + str(i) +\" latent features has a RMSE of \" + str(rmse_score))"
      ],
      "execution_count": 0,
      "outputs": []
    }
  ]
}