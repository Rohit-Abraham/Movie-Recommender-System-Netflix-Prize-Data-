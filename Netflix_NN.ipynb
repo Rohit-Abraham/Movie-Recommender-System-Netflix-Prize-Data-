{
  "nbformat": 4,
  "nbformat_minor": 0,
  "metadata": {
    "colab": {
      "name": "Netflix_NN.ipynb",
      "provenance": [],
      "collapsed_sections": []
    },
    "kernelspec": {
      "name": "python3",
      "display_name": "Python 3"
    },
    "accelerator": "GPU"
  },
  "cells": [
    {
      "cell_type": "markdown",
      "metadata": {
        "id": "oP2UbQRvf_a6",
        "colab_type": "text"
      },
      "source": [
        "## Importing dependencies"
      ]
    },
    {
      "cell_type": "code",
      "metadata": {
        "id": "9ioLD-zIjzhe",
        "colab_type": "code",
        "colab": {}
      },
      "source": [
        "import io\n",
        "import os\n",
        "import math\n",
        "import copy\n",
        "import pickle\n",
        "import zipfile\n",
        "from textwrap import wrap\n",
        "from pathlib import Path\n",
        "from itertools import zip_longest\n",
        "from collections import defaultdict\n",
        "from urllib.error import URLError\n",
        "from urllib.request import urlopen\n",
        "\n",
        "import numpy as np\n",
        "import pandas as pd\n",
        "import matplotlib.pyplot as plt\n",
        "from sklearn.model_selection import train_test_split\n",
        "\n",
        "import torch\n",
        "from torch import nn\n",
        "from torch import optim\n",
        "from torch.nn import functional as F \n",
        "from torch.optim.lr_scheduler import _LRScheduler"
      ],
      "execution_count": 0,
      "outputs": []
    },
    {
      "cell_type": "code",
      "metadata": {
        "id": "FVod1FZhj9fd",
        "colab_type": "code",
        "outputId": "e870f95d-557b-4826-8560-503b9870470b",
        "colab": {
          "base_uri": "https://localhost:8080/",
          "height": 123
        }
      },
      "source": [
        "from google.colab import drive\n",
        "drive.mount('/content/gdrive')"
      ],
      "execution_count": 0,
      "outputs": [
        {
          "output_type": "stream",
          "text": [
            "Go to this URL in a browser: https://accounts.google.com/o/oauth2/auth?client_id=947318989803-6bn6qk8qdgf4n4g3pfee6491hc0brc4i.apps.googleusercontent.com&redirect_uri=urn%3aietf%3awg%3aoauth%3a2.0%3aoob&response_type=code&scope=email%20https%3a%2f%2fwww.googleapis.com%2fauth%2fdocs.test%20https%3a%2f%2fwww.googleapis.com%2fauth%2fdrive%20https%3a%2f%2fwww.googleapis.com%2fauth%2fdrive.photos.readonly%20https%3a%2f%2fwww.googleapis.com%2fauth%2fpeopleapi.readonly\n",
            "\n",
            "Enter your authorization code:\n",
            "··········\n",
            "Mounted at /content/gdrive\n"
          ],
          "name": "stdout"
        }
      ]
    },
    {
      "cell_type": "markdown",
      "metadata": {
        "id": "FjW2QIJggElK",
        "colab_type": "text"
      },
      "source": [
        "## Merging all text files"
      ]
    },
    {
      "cell_type": "code",
      "metadata": {
        "id": "wZLGzdPEf85D",
        "colab_type": "code",
        "colab": {}
      },
      "source": [
        "if not os.path.isfile(\"/content/gdrive/My Drive/Netflix Data/NetflixRatings.csv\"): \n",
        "#This line: \"os.path.isfile(\"../Data/NetflixRatings.csv\")\" simply checks that is there a file with the name \"NetflixRatings.csv\" in the \n",
        "#in the folder \"/Netfilx Data/\". If the file is present then it return true else false\n",
        "    startTime = datetime.now()\n",
        "    data = open(\"/content/gdrive/My Drive/Netflix Data/NetflixRatings.csv\", mode = \"w\") #this line simply creates the file with the name \"NetflixRatings.csv\" in \n",
        "    #write mode in the folder \"Data\".\n",
        "    files = ['/content/gdrive/My Drive/Netflix Data/combined_data_1.txt','/content/gdrive/My Drive/Netflix Data/combined_data_2.txt', '/content/gdrive/My Drive/Netflix Data/combined_data_3.txt', '/content/gdrive/My Drive/Netflix Data/combined_data_4.txt']\n",
        "#   files = ['../Data/combined_data_2.txt', '../Data/combined_data_4.txt']\n",
        "    for file in files:\n",
        "        print(\"Reading from file: \"+str(file)+\"...\")\n",
        "        with open(file) as f:  #you can think of this command \"with open(file) as f\" as similar to 'if' statement or a sort of \n",
        "            #loop statement. This command says that as long as this file is opened, perform the underneath operation.\n",
        "            for line in f:\n",
        "                line = line.strip() #line.strip() clears all the leading and trailing spaces from the string, as here each line\n",
        "                #that we are reading from a file is a string.\n",
        "                #Note first line consist of a movie id followed by a semi-colon, then second line contains custID,rating,date\n",
        "                #then third line agains contains custID,rating,date which belong to that movie ID and so on. The format of data\n",
        "                #is exactly same as shown above with the heading \"Example Data Point\". Check out above.\n",
        "                if line.endswith(\":\"):\n",
        "                    movieID = line.replace(\":\", \"\") #this will remove the trailing semi-colon and return us the leading movie ID.\n",
        "                else:\n",
        "                    #here, in the below code we have first created an empty list with the name \"row \"so that we can insert movie ID \n",
        "                    #at the first position and rest customerID, rating and date in second position. After that we have separated all \n",
        "                    #four namely movieID, custID, rating and date with comma and converted a single string by joining them with comma.\n",
        "                    #then finally written them to our output \".csv\" file.\n",
        "                    row = [] \n",
        "                    row = [x for x in line.split(\",\")] #custID, rating and date are separated by comma\n",
        "                    row.insert(0, movieID)\n",
        "                    data.write(\",\".join(row))\n",
        "                    data.write(\"\\n\")\n",
        "        print(\"Reading of file: \"+str(file)+\" is completed\\n\")\n",
        "    data.close()\n",
        "    print(\"Total time taken for execution of this code = \"+str(datetime.now() - startTime))"
      ],
      "execution_count": 0,
      "outputs": []
    },
    {
      "cell_type": "markdown",
      "metadata": {
        "id": "-zNSO-hKgRlD",
        "colab_type": "text"
      },
      "source": [
        "## Loading files(Ratings and titles file)"
      ]
    },
    {
      "cell_type": "code",
      "metadata": {
        "id": "jz6ZfV6PkG1T",
        "colab_type": "code",
        "colab": {}
      },
      "source": [
        "df_ratings = pd.read_csv(\"/content/gdrive/My Drive/Netflix Data/Netflix_ratings.csv\")"
      ],
      "execution_count": 0,
      "outputs": []
    },
    {
      "cell_type": "code",
      "metadata": {
        "id": "uupRhobFkNzT",
        "colab_type": "code",
        "outputId": "c739a895-cfa5-496a-f806-6de5a809832c",
        "colab": {
          "base_uri": "https://localhost:8080/",
          "height": 206
        }
      },
      "source": [
        "df_ratings = df_ratings.drop(\"timestamp\", axis=1)\n",
        "#df_ratings.columns =[\"MovieID\",\"CustID\", \"Ratings\"] \n",
        "df_ratings.head(5)"
      ],
      "execution_count": 0,
      "outputs": [
        {
          "output_type": "execute_result",
          "data": {
            "text/html": [
              "<div>\n",
              "<style scoped>\n",
              "    .dataframe tbody tr th:only-of-type {\n",
              "        vertical-align: middle;\n",
              "    }\n",
              "\n",
              "    .dataframe tbody tr th {\n",
              "        vertical-align: top;\n",
              "    }\n",
              "\n",
              "    .dataframe thead th {\n",
              "        text-align: right;\n",
              "    }\n",
              "</style>\n",
              "<table border=\"1\" class=\"dataframe\">\n",
              "  <thead>\n",
              "    <tr style=\"text-align: right;\">\n",
              "      <th></th>\n",
              "      <th>userId</th>\n",
              "      <th>movieId</th>\n",
              "      <th>rating</th>\n",
              "    </tr>\n",
              "  </thead>\n",
              "  <tbody>\n",
              "    <tr>\n",
              "      <th>0</th>\n",
              "      <td>1</td>\n",
              "      <td>1</td>\n",
              "      <td>4.0</td>\n",
              "    </tr>\n",
              "    <tr>\n",
              "      <th>1</th>\n",
              "      <td>1</td>\n",
              "      <td>3</td>\n",
              "      <td>4.0</td>\n",
              "    </tr>\n",
              "    <tr>\n",
              "      <th>2</th>\n",
              "      <td>1</td>\n",
              "      <td>6</td>\n",
              "      <td>4.0</td>\n",
              "    </tr>\n",
              "    <tr>\n",
              "      <th>3</th>\n",
              "      <td>1</td>\n",
              "      <td>47</td>\n",
              "      <td>5.0</td>\n",
              "    </tr>\n",
              "    <tr>\n",
              "      <th>4</th>\n",
              "      <td>1</td>\n",
              "      <td>50</td>\n",
              "      <td>5.0</td>\n",
              "    </tr>\n",
              "  </tbody>\n",
              "</table>\n",
              "</div>"
            ],
            "text/plain": [
              "   userId  movieId  rating\n",
              "0       1        1     4.0\n",
              "1       1        3     4.0\n",
              "2       1        6     4.0\n",
              "3       1       47     5.0\n",
              "4       1       50     5.0"
            ]
          },
          "metadata": {
            "tags": []
          },
          "execution_count": 8
        }
      ]
    },
    {
      "cell_type": "code",
      "metadata": {
        "id": "7xYSvhI-kP1-",
        "colab_type": "code",
        "colab": {}
      },
      "source": [
        "df_movies = pd.read_csv('/content/gdrive/My Drive/Netflix Data/Netfilx_movies.csv')\n",
        "df_movies = df_movies.drop('genres', axis=1)\n",
        "#df_movies.set_index('MovieID', inplace = True)"
      ],
      "execution_count": 0,
      "outputs": []
    },
    {
      "cell_type": "code",
      "metadata": {
        "id": "vtfoP3yikUor",
        "colab_type": "code",
        "outputId": "241f93fd-27de-4745-ca50-df4a5cbb0ed1",
        "colab": {
          "base_uri": "https://localhost:8080/",
          "height": 206
        }
      },
      "source": [
        "df_movies.head(5)"
      ],
      "execution_count": 0,
      "outputs": [
        {
          "output_type": "execute_result",
          "data": {
            "text/html": [
              "<div>\n",
              "<style scoped>\n",
              "    .dataframe tbody tr th:only-of-type {\n",
              "        vertical-align: middle;\n",
              "    }\n",
              "\n",
              "    .dataframe tbody tr th {\n",
              "        vertical-align: top;\n",
              "    }\n",
              "\n",
              "    .dataframe thead th {\n",
              "        text-align: right;\n",
              "    }\n",
              "</style>\n",
              "<table border=\"1\" class=\"dataframe\">\n",
              "  <thead>\n",
              "    <tr style=\"text-align: right;\">\n",
              "      <th></th>\n",
              "      <th>movieId</th>\n",
              "      <th>title</th>\n",
              "    </tr>\n",
              "  </thead>\n",
              "  <tbody>\n",
              "    <tr>\n",
              "      <th>0</th>\n",
              "      <td>1</td>\n",
              "      <td>Toy Story (1995)</td>\n",
              "    </tr>\n",
              "    <tr>\n",
              "      <th>1</th>\n",
              "      <td>2</td>\n",
              "      <td>Jumanji (1995)</td>\n",
              "    </tr>\n",
              "    <tr>\n",
              "      <th>2</th>\n",
              "      <td>3</td>\n",
              "      <td>Grumpier Old Men (1995)</td>\n",
              "    </tr>\n",
              "    <tr>\n",
              "      <th>3</th>\n",
              "      <td>4</td>\n",
              "      <td>Waiting to Exhale (1995)</td>\n",
              "    </tr>\n",
              "    <tr>\n",
              "      <th>4</th>\n",
              "      <td>5</td>\n",
              "      <td>Father of the Bride Part II (1995)</td>\n",
              "    </tr>\n",
              "  </tbody>\n",
              "</table>\n",
              "</div>"
            ],
            "text/plain": [
              "   movieId                               title\n",
              "0        1                    Toy Story (1995)\n",
              "1        2                      Jumanji (1995)\n",
              "2        3             Grumpier Old Men (1995)\n",
              "3        4            Waiting to Exhale (1995)\n",
              "4        5  Father of the Bride Part II (1995)"
            ]
          },
          "metadata": {
            "tags": []
          },
          "execution_count": 37
        }
      ]
    },
    {
      "cell_type": "code",
      "metadata": {
        "id": "nVFNmmd7lIqJ",
        "colab_type": "code",
        "colab": {}
      },
      "source": [
        "ratings = df_ratings.copy()\n",
        "movies = df_movies.copy()"
      ],
      "execution_count": 0,
      "outputs": []
    },
    {
      "cell_type": "markdown",
      "metadata": {
        "id": "myENGyc5gbNM",
        "colab_type": "text"
      },
      "source": [
        "## Creating matrix for embeddings"
      ]
    },
    {
      "cell_type": "code",
      "metadata": {
        "id": "mUbQWULqkbRb",
        "colab_type": "code",
        "colab": {}
      },
      "source": [
        "def tabular_preview(ratings, n=15):\n",
        "    \"\"\"Creates a cross-tabular view of users vs movies.\"\"\"\n",
        "    \n",
        "    user_groups = ratings.groupby('userId')['rating'].count()\n",
        "    top_users = user_groups.sort_values(ascending=False)[:15]\n",
        "\n",
        "    movie_groups = ratings.groupby('movieId')['rating'].count()\n",
        "    top_movies = movie_groups.sort_values(ascending=False)[:15]\n",
        "\n",
        "    top = (\n",
        "        ratings.\n",
        "        join(top_users, rsuffix='_r', how='inner', on='userId').\n",
        "        join(top_movies, rsuffix='_r', how='inner', on='movieId'))\n",
        "\n",
        "    return pd.crosstab(top.userId, top.movieId, top.rating, aggfunc=np.sum)"
      ],
      "execution_count": 0,
      "outputs": []
    },
    {
      "cell_type": "code",
      "metadata": {
        "id": "kYCtg51Dkk2F",
        "colab_type": "code",
        "outputId": "e1b5e890-d24c-4928-ab88-0ed3af4317d6",
        "colab": {
          "base_uri": "https://localhost:8080/",
          "height": 550
        }
      },
      "source": [
        "tabular_preview(ratings,movies)"
      ],
      "execution_count": 0,
      "outputs": [
        {
          "output_type": "execute_result",
          "data": {
            "text/html": [
              "<div>\n",
              "<style scoped>\n",
              "    .dataframe tbody tr th:only-of-type {\n",
              "        vertical-align: middle;\n",
              "    }\n",
              "\n",
              "    .dataframe tbody tr th {\n",
              "        vertical-align: top;\n",
              "    }\n",
              "\n",
              "    .dataframe thead th {\n",
              "        text-align: right;\n",
              "    }\n",
              "</style>\n",
              "<table border=\"1\" class=\"dataframe\">\n",
              "  <thead>\n",
              "    <tr style=\"text-align: right;\">\n",
              "      <th>movieId</th>\n",
              "      <th>1</th>\n",
              "      <th>50</th>\n",
              "      <th>110</th>\n",
              "      <th>260</th>\n",
              "      <th>296</th>\n",
              "      <th>318</th>\n",
              "      <th>356</th>\n",
              "      <th>480</th>\n",
              "      <th>527</th>\n",
              "      <th>589</th>\n",
              "      <th>593</th>\n",
              "      <th>1196</th>\n",
              "      <th>2571</th>\n",
              "      <th>2858</th>\n",
              "      <th>2959</th>\n",
              "    </tr>\n",
              "    <tr>\n",
              "      <th>userId</th>\n",
              "      <th></th>\n",
              "      <th></th>\n",
              "      <th></th>\n",
              "      <th></th>\n",
              "      <th></th>\n",
              "      <th></th>\n",
              "      <th></th>\n",
              "      <th></th>\n",
              "      <th></th>\n",
              "      <th></th>\n",
              "      <th></th>\n",
              "      <th></th>\n",
              "      <th></th>\n",
              "      <th></th>\n",
              "      <th></th>\n",
              "    </tr>\n",
              "  </thead>\n",
              "  <tbody>\n",
              "    <tr>\n",
              "      <th>68</th>\n",
              "      <td>2.5</td>\n",
              "      <td>3.0</td>\n",
              "      <td>2.5</td>\n",
              "      <td>5.0</td>\n",
              "      <td>2.0</td>\n",
              "      <td>3.0</td>\n",
              "      <td>3.5</td>\n",
              "      <td>3.5</td>\n",
              "      <td>4.0</td>\n",
              "      <td>3.5</td>\n",
              "      <td>3.5</td>\n",
              "      <td>5.0</td>\n",
              "      <td>4.5</td>\n",
              "      <td>5.0</td>\n",
              "      <td>2.5</td>\n",
              "    </tr>\n",
              "    <tr>\n",
              "      <th>182</th>\n",
              "      <td>4.0</td>\n",
              "      <td>4.5</td>\n",
              "      <td>3.5</td>\n",
              "      <td>3.5</td>\n",
              "      <td>5.0</td>\n",
              "      <td>4.5</td>\n",
              "      <td>5.0</td>\n",
              "      <td>3.5</td>\n",
              "      <td>4.0</td>\n",
              "      <td>2.0</td>\n",
              "      <td>4.5</td>\n",
              "      <td>3.0</td>\n",
              "      <td>5.0</td>\n",
              "      <td>5.0</td>\n",
              "      <td>5.0</td>\n",
              "    </tr>\n",
              "    <tr>\n",
              "      <th>249</th>\n",
              "      <td>4.0</td>\n",
              "      <td>4.0</td>\n",
              "      <td>5.0</td>\n",
              "      <td>5.0</td>\n",
              "      <td>4.0</td>\n",
              "      <td>4.5</td>\n",
              "      <td>4.5</td>\n",
              "      <td>4.0</td>\n",
              "      <td>4.5</td>\n",
              "      <td>4.0</td>\n",
              "      <td>4.0</td>\n",
              "      <td>5.0</td>\n",
              "      <td>5.0</td>\n",
              "      <td>4.5</td>\n",
              "      <td>5.0</td>\n",
              "    </tr>\n",
              "    <tr>\n",
              "      <th>274</th>\n",
              "      <td>4.0</td>\n",
              "      <td>4.0</td>\n",
              "      <td>4.5</td>\n",
              "      <td>3.0</td>\n",
              "      <td>5.0</td>\n",
              "      <td>4.5</td>\n",
              "      <td>4.5</td>\n",
              "      <td>3.5</td>\n",
              "      <td>4.0</td>\n",
              "      <td>4.5</td>\n",
              "      <td>4.0</td>\n",
              "      <td>4.5</td>\n",
              "      <td>4.0</td>\n",
              "      <td>5.0</td>\n",
              "      <td>5.0</td>\n",
              "    </tr>\n",
              "    <tr>\n",
              "      <th>288</th>\n",
              "      <td>4.5</td>\n",
              "      <td>NaN</td>\n",
              "      <td>5.0</td>\n",
              "      <td>5.0</td>\n",
              "      <td>5.0</td>\n",
              "      <td>5.0</td>\n",
              "      <td>5.0</td>\n",
              "      <td>2.0</td>\n",
              "      <td>5.0</td>\n",
              "      <td>4.0</td>\n",
              "      <td>5.0</td>\n",
              "      <td>4.5</td>\n",
              "      <td>3.0</td>\n",
              "      <td>NaN</td>\n",
              "      <td>3.5</td>\n",
              "    </tr>\n",
              "    <tr>\n",
              "      <th>307</th>\n",
              "      <td>4.0</td>\n",
              "      <td>4.5</td>\n",
              "      <td>3.5</td>\n",
              "      <td>3.5</td>\n",
              "      <td>4.5</td>\n",
              "      <td>4.5</td>\n",
              "      <td>4.0</td>\n",
              "      <td>3.5</td>\n",
              "      <td>4.5</td>\n",
              "      <td>2.5</td>\n",
              "      <td>4.5</td>\n",
              "      <td>3.0</td>\n",
              "      <td>3.5</td>\n",
              "      <td>4.0</td>\n",
              "      <td>4.0</td>\n",
              "    </tr>\n",
              "    <tr>\n",
              "      <th>380</th>\n",
              "      <td>5.0</td>\n",
              "      <td>4.0</td>\n",
              "      <td>4.0</td>\n",
              "      <td>5.0</td>\n",
              "      <td>5.0</td>\n",
              "      <td>3.0</td>\n",
              "      <td>5.0</td>\n",
              "      <td>5.0</td>\n",
              "      <td>NaN</td>\n",
              "      <td>5.0</td>\n",
              "      <td>5.0</td>\n",
              "      <td>5.0</td>\n",
              "      <td>4.5</td>\n",
              "      <td>NaN</td>\n",
              "      <td>4.0</td>\n",
              "    </tr>\n",
              "    <tr>\n",
              "      <th>387</th>\n",
              "      <td>NaN</td>\n",
              "      <td>4.5</td>\n",
              "      <td>3.5</td>\n",
              "      <td>4.5</td>\n",
              "      <td>5.0</td>\n",
              "      <td>3.5</td>\n",
              "      <td>4.0</td>\n",
              "      <td>3.0</td>\n",
              "      <td>NaN</td>\n",
              "      <td>3.5</td>\n",
              "      <td>4.0</td>\n",
              "      <td>4.5</td>\n",
              "      <td>4.0</td>\n",
              "      <td>4.5</td>\n",
              "      <td>4.5</td>\n",
              "    </tr>\n",
              "    <tr>\n",
              "      <th>414</th>\n",
              "      <td>4.0</td>\n",
              "      <td>5.0</td>\n",
              "      <td>5.0</td>\n",
              "      <td>5.0</td>\n",
              "      <td>5.0</td>\n",
              "      <td>5.0</td>\n",
              "      <td>5.0</td>\n",
              "      <td>4.0</td>\n",
              "      <td>4.0</td>\n",
              "      <td>5.0</td>\n",
              "      <td>4.0</td>\n",
              "      <td>5.0</td>\n",
              "      <td>5.0</td>\n",
              "      <td>5.0</td>\n",
              "      <td>5.0</td>\n",
              "    </tr>\n",
              "    <tr>\n",
              "      <th>448</th>\n",
              "      <td>5.0</td>\n",
              "      <td>4.0</td>\n",
              "      <td>NaN</td>\n",
              "      <td>5.0</td>\n",
              "      <td>5.0</td>\n",
              "      <td>NaN</td>\n",
              "      <td>3.0</td>\n",
              "      <td>3.0</td>\n",
              "      <td>NaN</td>\n",
              "      <td>3.0</td>\n",
              "      <td>5.0</td>\n",
              "      <td>5.0</td>\n",
              "      <td>2.0</td>\n",
              "      <td>4.0</td>\n",
              "      <td>4.0</td>\n",
              "    </tr>\n",
              "    <tr>\n",
              "      <th>474</th>\n",
              "      <td>4.0</td>\n",
              "      <td>4.0</td>\n",
              "      <td>3.0</td>\n",
              "      <td>4.0</td>\n",
              "      <td>4.0</td>\n",
              "      <td>5.0</td>\n",
              "      <td>3.0</td>\n",
              "      <td>4.5</td>\n",
              "      <td>5.0</td>\n",
              "      <td>4.0</td>\n",
              "      <td>4.5</td>\n",
              "      <td>5.0</td>\n",
              "      <td>4.5</td>\n",
              "      <td>3.5</td>\n",
              "      <td>4.0</td>\n",
              "    </tr>\n",
              "    <tr>\n",
              "      <th>599</th>\n",
              "      <td>3.0</td>\n",
              "      <td>3.5</td>\n",
              "      <td>3.5</td>\n",
              "      <td>5.0</td>\n",
              "      <td>5.0</td>\n",
              "      <td>4.0</td>\n",
              "      <td>3.5</td>\n",
              "      <td>4.0</td>\n",
              "      <td>NaN</td>\n",
              "      <td>4.5</td>\n",
              "      <td>3.0</td>\n",
              "      <td>5.0</td>\n",
              "      <td>5.0</td>\n",
              "      <td>5.0</td>\n",
              "      <td>5.0</td>\n",
              "    </tr>\n",
              "    <tr>\n",
              "      <th>603</th>\n",
              "      <td>4.0</td>\n",
              "      <td>NaN</td>\n",
              "      <td>1.0</td>\n",
              "      <td>4.0</td>\n",
              "      <td>5.0</td>\n",
              "      <td>NaN</td>\n",
              "      <td>3.0</td>\n",
              "      <td>NaN</td>\n",
              "      <td>3.0</td>\n",
              "      <td>NaN</td>\n",
              "      <td>5.0</td>\n",
              "      <td>3.0</td>\n",
              "      <td>5.0</td>\n",
              "      <td>5.0</td>\n",
              "      <td>4.0</td>\n",
              "    </tr>\n",
              "    <tr>\n",
              "      <th>606</th>\n",
              "      <td>2.5</td>\n",
              "      <td>4.5</td>\n",
              "      <td>3.5</td>\n",
              "      <td>4.5</td>\n",
              "      <td>5.0</td>\n",
              "      <td>3.5</td>\n",
              "      <td>4.0</td>\n",
              "      <td>2.5</td>\n",
              "      <td>5.0</td>\n",
              "      <td>3.5</td>\n",
              "      <td>4.5</td>\n",
              "      <td>4.5</td>\n",
              "      <td>5.0</td>\n",
              "      <td>4.5</td>\n",
              "      <td>5.0</td>\n",
              "    </tr>\n",
              "    <tr>\n",
              "      <th>610</th>\n",
              "      <td>5.0</td>\n",
              "      <td>4.0</td>\n",
              "      <td>4.5</td>\n",
              "      <td>5.0</td>\n",
              "      <td>5.0</td>\n",
              "      <td>3.0</td>\n",
              "      <td>3.0</td>\n",
              "      <td>5.0</td>\n",
              "      <td>3.5</td>\n",
              "      <td>5.0</td>\n",
              "      <td>4.5</td>\n",
              "      <td>5.0</td>\n",
              "      <td>5.0</td>\n",
              "      <td>3.5</td>\n",
              "      <td>5.0</td>\n",
              "    </tr>\n",
              "  </tbody>\n",
              "</table>\n",
              "</div>"
            ],
            "text/plain": [
              "movieId  1     50    110   260   296   318   ...  589   593   1196  2571  2858  2959\n",
              "userId                                       ...                                    \n",
              "68        2.5   3.0   2.5   5.0   2.0   3.0  ...   3.5   3.5   5.0   4.5   5.0   2.5\n",
              "182       4.0   4.5   3.5   3.5   5.0   4.5  ...   2.0   4.5   3.0   5.0   5.0   5.0\n",
              "249       4.0   4.0   5.0   5.0   4.0   4.5  ...   4.0   4.0   5.0   5.0   4.5   5.0\n",
              "274       4.0   4.0   4.5   3.0   5.0   4.5  ...   4.5   4.0   4.5   4.0   5.0   5.0\n",
              "288       4.5   NaN   5.0   5.0   5.0   5.0  ...   4.0   5.0   4.5   3.0   NaN   3.5\n",
              "307       4.0   4.5   3.5   3.5   4.5   4.5  ...   2.5   4.5   3.0   3.5   4.0   4.0\n",
              "380       5.0   4.0   4.0   5.0   5.0   3.0  ...   5.0   5.0   5.0   4.5   NaN   4.0\n",
              "387       NaN   4.5   3.5   4.5   5.0   3.5  ...   3.5   4.0   4.5   4.0   4.5   4.5\n",
              "414       4.0   5.0   5.0   5.0   5.0   5.0  ...   5.0   4.0   5.0   5.0   5.0   5.0\n",
              "448       5.0   4.0   NaN   5.0   5.0   NaN  ...   3.0   5.0   5.0   2.0   4.0   4.0\n",
              "474       4.0   4.0   3.0   4.0   4.0   5.0  ...   4.0   4.5   5.0   4.5   3.5   4.0\n",
              "599       3.0   3.5   3.5   5.0   5.0   4.0  ...   4.5   3.0   5.0   5.0   5.0   5.0\n",
              "603       4.0   NaN   1.0   4.0   5.0   NaN  ...   NaN   5.0   3.0   5.0   5.0   4.0\n",
              "606       2.5   4.5   3.5   4.5   5.0   3.5  ...   3.5   4.5   4.5   5.0   4.5   5.0\n",
              "610       5.0   4.0   4.5   5.0   5.0   3.0  ...   5.0   4.5   5.0   5.0   3.5   5.0\n",
              "\n",
              "[15 rows x 15 columns]"
            ]
          },
          "metadata": {
            "tags": []
          },
          "execution_count": 13
        }
      ]
    },
    {
      "cell_type": "code",
      "metadata": {
        "id": "8coSHkn5lvwS",
        "colab_type": "code",
        "colab": {}
      },
      "source": [
        "def create_dataset(ratings, top=None):\n",
        "    if top is not None:\n",
        "        ratings.groupby('userId')['rating'].count()\n",
        "    \n",
        "    unique_users = ratings.userId.unique()\n",
        "    user_to_index = {old: new for new, old in enumerate(unique_users)}\n",
        "    new_users = ratings.userId.map(user_to_index)\n",
        "    \n",
        "    unique_movies = ratings.movieId.unique()\n",
        "    movie_to_index = {old: new for new, old in enumerate(unique_movies)}\n",
        "    new_movies = ratings.movieId.map(movie_to_index)\n",
        "    \n",
        "    n_users = unique_users.shape[0]\n",
        "    n_movies = unique_movies.shape[0]\n",
        "    \n",
        "    X = pd.DataFrame({'user_id': new_users, 'movie_id': new_movies})\n",
        "    y = ratings['rating'].astype(np.float32)\n",
        "    return (n_users, n_movies), (X, y), (user_to_index, movie_to_index)"
      ],
      "execution_count": 0,
      "outputs": []
    },
    {
      "cell_type": "code",
      "metadata": {
        "id": "68C8mPfjmA49",
        "colab_type": "code",
        "outputId": "271a04bd-ce79-41e0-87b3-f5f4638147b3",
        "colab": {
          "base_uri": "https://localhost:8080/",
          "height": 69
        }
      },
      "source": [
        "(n, m), (X, y), _ = create_dataset(ratings)\n",
        "print(f'Embeddings: {n} users, {m} movies')\n",
        "print(f'Dataset shape: {X.shape}')\n",
        "print(f'Target shape: {y.shape}')"
      ],
      "execution_count": 0,
      "outputs": [
        {
          "output_type": "stream",
          "text": [
            "Embeddings: 610 users, 9724 movies\n",
            "Dataset shape: (100836, 2)\n",
            "Target shape: (100836,)\n"
          ],
          "name": "stdout"
        }
      ]
    },
    {
      "cell_type": "code",
      "metadata": {
        "id": "gzGcp2zdmHVo",
        "colab_type": "code",
        "colab": {}
      },
      "source": [
        "class ReviewsIterator:\n",
        "    \n",
        "    def __init__(self, X, y, batch_size=32, shuffle=True):\n",
        "        X, y = np.asarray(X), np.asarray(y)\n",
        "        \n",
        "        if shuffle:\n",
        "            index = np.random.permutation(X.shape[0])\n",
        "            X, y = X[index], y[index]\n",
        "            \n",
        "        self.X = X\n",
        "        self.y = y\n",
        "        self.batch_size = batch_size\n",
        "        self.shuffle = shuffle\n",
        "        self.n_batches = int(math.ceil(X.shape[0] // batch_size))\n",
        "        self._current = 0\n",
        "        \n",
        "    def __iter__(self):\n",
        "        return self\n",
        "    \n",
        "    def __next__(self):\n",
        "        return self.next()\n",
        "    \n",
        "    def next(self):\n",
        "        if self._current >= self.n_batches:\n",
        "            raise StopIteration()\n",
        "        k = self._current\n",
        "        self._current += 1\n",
        "        bs = self.batch_size\n",
        "        return self.X[k*bs:(k + 1)*bs], self.y[k*bs:(k + 1)*bs]"
      ],
      "execution_count": 0,
      "outputs": []
    },
    {
      "cell_type": "code",
      "metadata": {
        "id": "CaMZaMjcmKAp",
        "colab_type": "code",
        "colab": {}
      },
      "source": [
        "def batches(X, y, bs=32, shuffle=True):\n",
        "    for xb, yb in ReviewsIterator(X, y, bs, shuffle):\n",
        "        xb = torch.LongTensor(xb)\n",
        "        yb = torch.FloatTensor(yb)\n",
        "        yield xb, yb.view(-1, 1)"
      ],
      "execution_count": 0,
      "outputs": []
    },
    {
      "cell_type": "code",
      "metadata": {
        "id": "za1NMfcOmMY1",
        "colab_type": "code",
        "outputId": "27552f5d-19be-4b38-ab38-e49d719e7080",
        "colab": {
          "base_uri": "https://localhost:8080/",
          "height": 155
        }
      },
      "source": [
        "for x_batch, y_batch in batches(X, y, bs=4):\n",
        "    print(x_batch)\n",
        "    print(y_batch)\n",
        "    break"
      ],
      "execution_count": 0,
      "outputs": [
        {
          "output_type": "stream",
          "text": [
            "tensor([[ 138, 1011],\n",
            "        [ 605, 1173],\n",
            "        [ 476, 2213],\n",
            "        [   5,   41]])\n",
            "tensor([[2.],\n",
            "        [2.],\n",
            "        [3.],\n",
            "        [5.]])\n"
          ],
          "name": "stdout"
        }
      ]
    },
    {
      "cell_type": "markdown",
      "metadata": {
        "id": "v-ZchMS5goag",
        "colab_type": "text"
      },
      "source": [
        "## Implementing Neural Networks"
      ]
    },
    {
      "cell_type": "code",
      "metadata": {
        "id": "WsOSjn-0mbgn",
        "colab_type": "code",
        "colab": {}
      },
      "source": [
        "class EmbeddingNet(nn.Module):\n",
        "    \"\"\"\n",
        "    Creates a dense network with embedding layers.\n",
        "    \n",
        "    Args:\n",
        "    \n",
        "        n_users:            \n",
        "            Number of unique users in the dataset.\n",
        "\n",
        "        n_movies: \n",
        "            Number of unique movies in the dataset.\n",
        "\n",
        "        n_factors: \n",
        "            Number of columns in the embeddings matrix.\n",
        "\n",
        "        embedding_dropout: \n",
        "            Dropout rate to apply right after embeddings layer.\n",
        "\n",
        "        hidden:\n",
        "            A single integer or a list of integers defining the number of \n",
        "            units in hidden layer(s).\n",
        "\n",
        "        dropouts: \n",
        "            A single integer or a list of integers defining the dropout \n",
        "            layers rates applyied right after each of hidden layers.\n",
        "            \n",
        "    \"\"\"\n",
        "    def __init__(self, n_users, n_movies,\n",
        "                 n_factors=50, embedding_dropout=0.02, \n",
        "                 hidden=10, dropouts=0.2):\n",
        "        \n",
        "        super().__init__()\n",
        "        hidden = get_list(hidden)\n",
        "        dropouts = get_list(dropouts)\n",
        "        n_last = hidden[-1]\n",
        "        \n",
        "        def gen_layers(n_in):\n",
        "            \"\"\"\n",
        "            A generator that yields a sequence of hidden layers and \n",
        "            their activations/dropouts.\n",
        "            \n",
        "            Note that the function captures `hidden` and `dropouts` \n",
        "            values from the outer scope.\n",
        "            \"\"\"\n",
        "            nonlocal hidden, dropouts\n",
        "            assert len(dropouts) <= len(hidden)\n",
        "            \n",
        "            for n_out, rate in zip_longest(hidden, dropouts):\n",
        "                yield nn.Linear(n_in, n_out)\n",
        "                yield nn.ReLU()\n",
        "                if rate is not None and rate > 0.:\n",
        "                    yield nn.Dropout(rate)\n",
        "                n_in = n_out\n",
        "            \n",
        "        self.u = nn.Embedding(n_users, n_factors)\n",
        "        self.m = nn.Embedding(n_movies, n_factors)\n",
        "        self.drop = nn.Dropout(embedding_dropout)\n",
        "        self.hidden = nn.Sequential(*list(gen_layers(n_factors * 2)))\n",
        "        self.fc = nn.Linear(n_last, 1)\n",
        "        self._init()\n",
        "        \n",
        "    def forward(self, users, movies, minmax=None):\n",
        "        features = torch.cat([self.u(users), self.m(movies)], dim=1)\n",
        "        x = self.drop(features)\n",
        "        x = self.hidden(x)\n",
        "        out = torch.sigmoid(self.fc(x))\n",
        "        if minmax is not None:\n",
        "            min_rating, max_rating = minmax\n",
        "            out = out*(max_rating - min_rating + 1) + min_rating - 0.5\n",
        "        return out\n",
        "    \n",
        "    def _init(self):\n",
        "        \"\"\"\n",
        "        Setup embeddings and hidden layers with reasonable initial values.\n",
        "        \"\"\"\n",
        "        \n",
        "        def init(m):\n",
        "            if type(m) == nn.Linear:\n",
        "                torch.nn.init.xavier_uniform_(m.weight)\n",
        "                m.bias.data.fill_(0.01)\n",
        "                \n",
        "        self.u.weight.data.uniform_(-0.05, 0.05)\n",
        "        self.m.weight.data.uniform_(-0.05, 0.05)\n",
        "        self.hidden.apply(init)\n",
        "        init(self.fc)\n",
        "    \n",
        "    \n",
        "def get_list(n):\n",
        "    if isinstance(n, (int, float)):\n",
        "        return [n]\n",
        "    elif hasattr(n, '__iter__'):\n",
        "        return list(n)\n",
        "    raise TypeError('layers configuraiton should be a single number or a list of numbers')"
      ],
      "execution_count": 0,
      "outputs": []
    },
    {
      "cell_type": "code",
      "metadata": {
        "id": "cvZ_mzyQmesO",
        "colab_type": "code",
        "outputId": "c78a31d9-7b28-4330-e183-0a48f6a8444a",
        "colab": {
          "base_uri": "https://localhost:8080/",
          "height": 207
        }
      },
      "source": [
        "EmbeddingNet(n, m, n_factors=150, hidden=100, dropouts=0.5)"
      ],
      "execution_count": 0,
      "outputs": [
        {
          "output_type": "execute_result",
          "data": {
            "text/plain": [
              "EmbeddingNet(\n",
              "  (u): Embedding(610, 150)\n",
              "  (m): Embedding(9724, 150)\n",
              "  (drop): Dropout(p=0.02, inplace=False)\n",
              "  (hidden): Sequential(\n",
              "    (0): Linear(in_features=300, out_features=100, bias=True)\n",
              "    (1): ReLU()\n",
              "    (2): Dropout(p=0.5, inplace=False)\n",
              "  )\n",
              "  (fc): Linear(in_features=100, out_features=1, bias=True)\n",
              ")"
            ]
          },
          "metadata": {
            "tags": []
          },
          "execution_count": 21
        }
      ]
    },
    {
      "cell_type": "code",
      "metadata": {
        "id": "NxiLc-CQncrL",
        "colab_type": "code",
        "outputId": "5772e166-b8bc-4bd6-e83d-b1a3a5295cd0",
        "colab": {
          "base_uri": "https://localhost:8080/",
          "height": 294
        }
      },
      "source": [
        "EmbeddingNet(n, m, n_factors=150, hidden=[100, 200, 300], dropouts=[0.25, 0.5])"
      ],
      "execution_count": 0,
      "outputs": [
        {
          "output_type": "execute_result",
          "data": {
            "text/plain": [
              "EmbeddingNet(\n",
              "  (u): Embedding(610, 150)\n",
              "  (m): Embedding(9724, 150)\n",
              "  (drop): Dropout(p=0.02, inplace=False)\n",
              "  (hidden): Sequential(\n",
              "    (0): Linear(in_features=300, out_features=100, bias=True)\n",
              "    (1): ReLU()\n",
              "    (2): Dropout(p=0.25, inplace=False)\n",
              "    (3): Linear(in_features=100, out_features=200, bias=True)\n",
              "    (4): ReLU()\n",
              "    (5): Dropout(p=0.5, inplace=False)\n",
              "    (6): Linear(in_features=200, out_features=300, bias=True)\n",
              "    (7): ReLU()\n",
              "  )\n",
              "  (fc): Linear(in_features=300, out_features=1, bias=True)\n",
              ")"
            ]
          },
          "metadata": {
            "tags": []
          },
          "execution_count": 22
        }
      ]
    },
    {
      "cell_type": "code",
      "metadata": {
        "id": "rJ1SGI7CoTux",
        "colab_type": "code",
        "colab": {}
      },
      "source": [
        "class CyclicLR(_LRScheduler):\n",
        "    \n",
        "    def __init__(self, optimizer, schedule, last_epoch=-1):\n",
        "        assert callable(schedule)\n",
        "        self.schedule = schedule\n",
        "        super().__init__(optimizer, last_epoch)\n",
        "\n",
        "    def get_lr(self):\n",
        "        return [self.schedule(self.last_epoch, lr) for lr in self.base_lrs]"
      ],
      "execution_count": 0,
      "outputs": []
    },
    {
      "cell_type": "code",
      "metadata": {
        "id": "IWloygPuoWEM",
        "colab_type": "code",
        "colab": {}
      },
      "source": [
        "def triangular(step_size, max_lr, method='triangular', gamma=0.99):\n",
        "    \n",
        "    def scheduler(epoch, base_lr):\n",
        "        period = 2 * step_size\n",
        "        cycle = math.floor(1 + epoch/period)\n",
        "        x = abs(epoch/step_size - 2*cycle + 1)\n",
        "        delta = (max_lr - base_lr)*max(0, (1 - x))\n",
        "\n",
        "        if method == 'triangular':\n",
        "            pass  # we've already done\n",
        "        elif method == 'triangular2':\n",
        "            delta /= float(2 ** (cycle - 1))\n",
        "        elif method == 'exp_range':\n",
        "            delta *= (gamma**epoch)\n",
        "        else:\n",
        "            raise ValueError('unexpected method: %s' % method)\n",
        "            \n",
        "        return base_lr + delta\n",
        "        \n",
        "    return scheduler"
      ],
      "execution_count": 0,
      "outputs": []
    },
    {
      "cell_type": "code",
      "metadata": {
        "id": "_jpKn2zxoj9D",
        "colab_type": "code",
        "colab": {}
      },
      "source": [
        "def cosine(t_max, eta_min=0):\n",
        "    \n",
        "    def scheduler(epoch, base_lr):\n",
        "        t = epoch % t_max\n",
        "        return eta_min + (base_lr - eta_min)*(1 + math.cos(math.pi*t/t_max))/2\n",
        "    \n",
        "    return scheduler"
      ],
      "execution_count": 0,
      "outputs": []
    },
    {
      "cell_type": "code",
      "metadata": {
        "id": "eTjy4gHRokee",
        "colab_type": "code",
        "colab": {}
      },
      "source": [
        "def plot_lr(schedule):\n",
        "    ts = list(range(1000))\n",
        "    y = [schedule(t, 0.001) for t in ts]\n",
        "    plt.plot(ts, y)"
      ],
      "execution_count": 0,
      "outputs": []
    },
    {
      "cell_type": "code",
      "metadata": {
        "id": "V4Oh0EdqopIl",
        "colab_type": "code",
        "outputId": "6d2a511b-c5b5-4cbe-a976-bef48120c360",
        "colab": {
          "base_uri": "https://localhost:8080/",
          "height": 265
        }
      },
      "source": [
        "plot_lr(triangular(250, 0.005))"
      ],
      "execution_count": 0,
      "outputs": [
        {
          "output_type": "display_data",
          "data": {
            "image/png": "[encoded data removed]",
            "text/plain": [
              "<Figure size 432x288 with 1 Axes>"
            ]
          },
          "metadata": {
            "tags": []
          }
        }
      ]
    },
    {
      "cell_type": "code",
      "metadata": {
        "id": "BdJQyoJEos8T",
        "colab_type": "code",
        "outputId": "c5bc49e4-c74f-4dbd-8da7-08a5bab568cf",
        "colab": {
          "base_uri": "https://localhost:8080/",
          "height": 265
        }
      },
      "source": [
        "plot_lr(triangular(250, 0.005, 'exp_range', gamma=0.999))"
      ],
      "execution_count": 0,
      "outputs": [
        {
          "output_type": "display_data",
          "data": {
            "image/png": "[encoded data removed]",
            "text/plain": [
              "<Figure size 432x288 with 1 Axes>"
            ]
          },
          "metadata": {
            "tags": []
          }
        }
      ]
    },
    {
      "cell_type": "code",
      "metadata": {
        "id": "qUwVi5PPovKe",
        "colab_type": "code",
        "outputId": "89516446-20f3-40fb-cb44-31d35427b9f9",
        "colab": {
          "base_uri": "https://localhost:8080/",
          "height": 265
        }
      },
      "source": [
        "plot_lr(cosine(t_max=500, eta_min=0.0005))"
      ],
      "execution_count": 0,
      "outputs": [
        {
          "output_type": "display_data",
          "data": {
            "image/png": "[encoded data removed]",
            "text/plain": [
              "<Figure size 432x288 with 1 Axes>"
            ]
          },
          "metadata": {
            "tags": []
          }
        }
      ]
    },
    {
      "cell_type": "markdown",
      "metadata": {
        "id": "4XR9z00joxgx",
        "colab_type": "text"
      },
      "source": [
        "## Preparing dataset"
      ]
    },
    {
      "cell_type": "code",
      "metadata": {
        "id": "tPk3ZQjRo3BQ",
        "colab_type": "code",
        "colab": {}
      },
      "source": [
        "X_train, X_valid, y_train, y_valid = train_test_split(X, y, test_size=0.2, random_state=1)\n",
        "datasets = {'train': (X_train, y_train), 'val': (X_valid, y_valid)}\n",
        "dataset_sizes = {'train': len(X_train), 'val': len(X_valid)}"
      ],
      "execution_count": 0,
      "outputs": []
    },
    {
      "cell_type": "code",
      "metadata": {
        "id": "AwTy60x-pMU-",
        "colab_type": "code",
        "outputId": "71f5c060-886c-4b63-bd5f-a40484fcb636",
        "colab": {
          "base_uri": "https://localhost:8080/",
          "height": 34
        }
      },
      "source": [
        "minmax = ratings.rating.min(), ratings.rating.max()\n",
        "minmax"
      ],
      "execution_count": 0,
      "outputs": [
        {
          "output_type": "execute_result",
          "data": {
            "text/plain": [
              "(0.5, 5.0)"
            ]
          },
          "metadata": {
            "tags": []
          },
          "execution_count": 33
        }
      ]
    },
    {
      "cell_type": "code",
      "metadata": {
        "id": "QZqRil-spYX3",
        "colab_type": "code",
        "colab": {}
      },
      "source": [
        "net = EmbeddingNet(\n",
        "    n_users=n, n_movies=m, \n",
        "    n_factors=150, hidden=[100, 200, 500], \n",
        "    embedding_dropout=0.05, dropouts=[0.1, 0.5, 0.25])"
      ],
      "execution_count": 0,
      "outputs": []
    },
    {
      "cell_type": "code",
      "metadata": {
        "id": "g4vGw-AMpzRW",
        "colab_type": "code",
        "colab": {}
      },
      "source": [
        "lr = 1e-3\n",
        "wd = 1e-5\n",
        "bs = 2000\n",
        "n_epochs = 100\n",
        "patience = 10\n",
        "no_improvements = 0\n",
        "best_loss = np.inf\n",
        "best_weights = None\n",
        "history = []\n",
        "lr_history = []\n",
        "\n",
        "device = torch.device('cuda:0' if torch.cuda.is_available() else 'cpu')\n",
        "\n",
        "net.to(device)\n",
        "criterion = nn.MSELoss(reduction='sum')\n",
        "optimizer = optim.Adam(net.parameters(), lr=lr, weight_decay=wd)\n",
        "iterations_per_epoch = int(math.ceil(dataset_sizes['train'] // bs))\n",
        "scheduler = CyclicLR(optimizer, cosine(t_max=iterations_per_epoch * 2, eta_min=lr/10))\n",
        "\n",
        "for epoch in range(n_epochs):\n",
        "    stats = {'epoch': epoch + 1, 'total': n_epochs}\n",
        "    \n",
        "    for phase in ('train', 'val'):\n",
        "        training = phase == 'train'\n",
        "        running_loss = 0.0\n",
        "        n_batches = 0\n",
        "        \n",
        "        for batch in batches(*datasets[phase], shuffle=training, bs=bs):\n",
        "            x_batch, y_batch = [b.to(device) for b in batch]\n",
        "            optimizer.zero_grad()\n",
        "        \n",
        "            # compute gradients only during 'train' phase\n",
        "            with torch.set_grad_enabled(training):\n",
        "                outputs = net(x_batch[:, 1], x_batch[:, 0], minmax)\n",
        "                loss = criterion(outputs, y_batch)\n",
        "                \n",
        "                # don't update weights and rates when in 'val' phase\n",
        "                if training:\n",
        "                    scheduler.step()\n",
        "                    loss.backward()\n",
        "                    optimizer.step()\n",
        "                    lr_history.extend(scheduler.get_lr())\n",
        "                    \n",
        "            running_loss += loss.item()\n",
        "            \n",
        "        epoch_loss = running_loss / dataset_sizes[phase]\n",
        "        stats[phase] = epoch_loss\n",
        "        \n",
        "        # early stopping: save weights of the best model so far\n",
        "        if phase == 'val':\n",
        "            if epoch_loss < best_loss:\n",
        "                print('loss improvement on epoch: %d' % (epoch + 1))\n",
        "                best_loss = epoch_loss\n",
        "                best_weights = copy.deepcopy(net.state_dict())\n",
        "                no_improvements = 0\n",
        "            else:\n",
        "                no_improvements += 1\n",
        "                \n",
        "    history.append(stats)\n",
        "    print('[{epoch:03d}/{total:03d}] train: {train:.4f} - val: {val:.4f}'.format(**stats))\n",
        "    if no_improvements >= patience:\n",
        "        print('early stopping after epoch {epoch:03d}'.format(**stats))\n",
        "        break"
      ],
      "execution_count": 0,
      "outputs": []
    },
    {
      "cell_type": "code",
      "metadata": {
        "id": "rfCv3gjIrAfp",
        "colab_type": "code",
        "colab": {}
      },
      "source": [
        "ax = pd.DataFrame(history).drop(columns='total').plot(x='epoch')"
      ],
      "execution_count": 0,
      "outputs": []
    },
    {
      "cell_type": "code",
      "metadata": {
        "id": "k5auIWxszafF",
        "colab_type": "code",
        "colab": {}
      },
      "source": [
        "_ = plt.plot(lr_history[:2*iterations_per_epoch])"
      ],
      "execution_count": 0,
      "outputs": []
    },
    {
      "cell_type": "code",
      "metadata": {
        "id": "BSuXUHizzcsP",
        "colab_type": "code",
        "colab": {}
      },
      "source": [
        "net.load_state_dict(best_weights)"
      ],
      "execution_count": 0,
      "outputs": []
    },
    {
      "cell_type": "code",
      "metadata": {
        "id": "9OvZf2ims5Vo",
        "colab_type": "code",
        "colab": {}
      },
      "source": [
        "groud_truth, predictions = [], []\n",
        "\n",
        "with torch.no_grad():\n",
        "    for batch in batches(*datasets['val'], shuffle=False, bs=bs):\n",
        "        x_batch, y_batch = [b.to(device) for b in batch]\n",
        "        outputs = net(x_batch[:, 1], x_batch[:, 0], minmax)\n",
        "        groud_truth.extend(y_batch.tolist())\n",
        "        predictions.extend(outputs.tolist())\n",
        "\n",
        "groud_truth = np.asarray(groud_truth).ravel()\n",
        "predictions = np.asarray(predictions).ravel()"
      ],
      "execution_count": 0,
      "outputs": []
    },
    {
      "cell_type": "code",
      "metadata": {
        "id": "PZ9yehHHzfL7",
        "colab_type": "code",
        "colab": {}
      },
      "source": [
        "final_loss = np.sqrt(np.mean((predictions - groud_truth)**2))\n",
        "print(f'Final RMSE: {final_loss:.4f}')"
      ],
      "execution_count": 0,
      "outputs": []
    }
  ]
}